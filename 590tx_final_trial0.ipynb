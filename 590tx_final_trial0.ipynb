{
 "cells": [
  {
   "cell_type": "code",
   "execution_count": 84,
   "metadata": {},
   "outputs": [
    {
     "name": "stdout",
     "output_type": "stream",
     "text": [
      "Well Done\n"
     ]
    }
   ],
   "source": [
    "import re\n",
    "from nltk import tokenize\n",
    "import os\n",
    "from collections import Counter\n",
    "import pickle\n",
    "import csv\n",
    "\n",
    "def transform(pwd: str):\n",
    "    \"\"\"This program is to transform from each txt file to extract something useful.\n",
    "    pwd: a directory string where a txt file saves in.\n",
    "    \"\"\"\n",
    "    # pwd = 'C:/Users/guany/Desktop/courses/IS590TX/ass1/Part1/awards_1990/awd_1990_00/a9000006.txt'\n",
    "    # print(pwd)\n",
    "    f = open(pwd, 'r')\n",
    "    message = f.read()\n",
    "    # print(message)\n",
    "    f.close()\n",
    "    \n",
    "    # there's one empty file: 11726.html\n",
    "    try:\n",
    "        title_raw = re.search('(<TITLE>)(.*)(\\\\n)', message).group(0)\n",
    "    except AttributeError:\n",
    "        print(pwd)\n",
    "        print('AttributeError')\n",
    "        title_raw = 'xxxxxxxxxxxxxxxxxxxxxxxxxNo Name foundxxxxxxxxxxxxxxxxxxxxxxxxxx'\n",
    "    title = title_raw[18:-9]\n",
    "    if title[:-7].endswith(', The'):\n",
    "        title_good = 'The '+title[:-12]+title[-7:]\n",
    "    elif title[:-7].endswith(', A'):\n",
    "        title_good = 'A '+title[:-10]+title[-7:]\n",
    "    elif title[:-7].endswith(', An'):\n",
    "        title_good = 'An '+title[:-11]+title[-7:]\n",
    "    else: \n",
    "        title_good = title\n",
    "\n",
    "    review_raw = re.findall('<P>[^>]*[^\\/P]', message)\n",
    "    review = \"\"\n",
    "    for i in range(len(review_raw)):\n",
    "        review+=review_raw[i][3:].strip()\n",
    "#     print(review)\n",
    "    # s\n",
    "    review = review.replace('</P>', ' ').replace('\\n', ' ').strip()\n",
    "#     print(review)\n",
    "\n",
    "    return title_good, review\n",
    "\n",
    "def all_files():\n",
    "    \"\"\"\n",
    "    A function to transverse all the txt file directories.\n",
    "    :return: the list containing all directory strings.\n",
    "    \"\"\"\n",
    "    all_file_list=[]\n",
    "#     for root, dirs, files in os.walk(\"C:/Users/guany/Desktop/courses/IS590TX/project/database/imdb/reviewdata/moviereview\"):\n",
    "    for root, dirs, files in os.walk(\"C:\\\\Users\\\\guany\\\\Desktop\\\\courses\\\\IS590TX\\\\project\\\\database\\\\imdb\\\\reviewdata\\\\moviereview\"):\n",
    "        for file in files:\n",
    "            if file.endswith(\".html\"):\n",
    "                all_file_list.append(os.path.join(root, file))\n",
    "                # print(os.path.join(root, file))\n",
    "    return all_file_list\n",
    "\n",
    "\n",
    "def main():\n",
    "    all_file_list = all_files()\n",
    "#     print(type(all_file_list), len(all_file_list))\n",
    "    title_list = []\n",
    "#     sentences_count_list = []\n",
    "    review_list = []\n",
    "#     count = 0\n",
    "\n",
    "    content = []\n",
    "    for file in all_file_list:\n",
    "        (title, review) = transform(file)\n",
    "        content.append([title, review])\n",
    "#         title_list += [title]\n",
    "#         review_list += [review]\n",
    "    with open('step1.csv','w') as f:\n",
    "        writer = csv.writer(f)\n",
    "        writer.writerow(['title', 'review'])\n",
    "        writer.writerows(content)\n",
    "    \n",
    "    \n",
    "    \n",
    "#     f = open(\"C:\\\\Users\\\\guany\\\\Desktop\\\\test.csv\", \"w\")\n",
    "#     for i in range(len(title_list)):\n",
    "#         f.write(\"{} {}\\n\".format(title_list[i], review_list[i]))\n",
    "#     f.close()\n",
    "    print('Well Done')\n",
    "    \n",
    "main()"
   ]
  },
  {
   "cell_type": "code",
   "execution_count": null,
   "metadata": {},
   "outputs": [],
   "source": [
    "# import csv\n",
    "\n",
    "# arr = [['red', '361', '0'],\n",
    "#       ['blue', '1', '0'],\n",
    "#       ['orange', '77', '0'],\n",
    "#       ['cream', '660', '73'],\n",
    "#       ['ivory', '159', '0']]\n",
    "\n",
    "# with open('output.csv','w') as f:\n",
    "#     writer = csv.writer(f)\n",
    "#     writer.writerow(['color', 'total', 'fail'])\n",
    "#     writer.writerows(arr)"
   ]
  },
  {
   "cell_type": "code",
   "execution_count": 85,
   "metadata": {},
   "outputs": [
    {
     "ename": "TypeError",
     "evalue": "a bytes-like object is required, not 'str'",
     "output_type": "error",
     "traceback": [
      "\u001b[1;31m---------------------------------------------------------------------------\u001b[0m",
      "\u001b[1;31mTypeError\u001b[0m                                 Traceback (most recent call last)",
      "\u001b[1;32m<ipython-input-85-e8f0010d7bf2>\u001b[0m in \u001b[0;36m<module>\u001b[1;34m()\u001b[0m\n\u001b[0;32m     69\u001b[0m     \u001b[0mprint\u001b[0m\u001b[1;33m(\u001b[0m\u001b[1;34m'Well Done'\u001b[0m\u001b[1;33m)\u001b[0m\u001b[1;33m\u001b[0m\u001b[0m\n\u001b[0;32m     70\u001b[0m \u001b[1;33m\u001b[0m\u001b[0m\n\u001b[1;32m---> 71\u001b[1;33m \u001b[0mmain\u001b[0m\u001b[1;33m(\u001b[0m\u001b[1;33m)\u001b[0m\u001b[1;33m\u001b[0m\u001b[0m\n\u001b[0m",
      "\u001b[1;32m<ipython-input-85-e8f0010d7bf2>\u001b[0m in \u001b[0;36mmain\u001b[1;34m()\u001b[0m\n\u001b[0;32m     64\u001b[0m     \u001b[1;32mwith\u001b[0m \u001b[0mopen\u001b[0m\u001b[1;33m(\u001b[0m\u001b[1;34m'step1.csv'\u001b[0m\u001b[1;33m,\u001b[0m\u001b[1;34m'wb'\u001b[0m\u001b[1;33m)\u001b[0m \u001b[1;32mas\u001b[0m \u001b[0mf\u001b[0m\u001b[1;33m:\u001b[0m\u001b[1;33m\u001b[0m\u001b[0m\n\u001b[0;32m     65\u001b[0m         \u001b[0mwriter\u001b[0m \u001b[1;33m=\u001b[0m \u001b[0mcsv\u001b[0m\u001b[1;33m.\u001b[0m\u001b[0mwriter\u001b[0m\u001b[1;33m(\u001b[0m\u001b[0mf\u001b[0m\u001b[1;33m)\u001b[0m\u001b[1;33m\u001b[0m\u001b[0m\n\u001b[1;32m---> 66\u001b[1;33m         \u001b[0mwriter\u001b[0m\u001b[1;33m.\u001b[0m\u001b[0mwriterow\u001b[0m\u001b[1;33m(\u001b[0m\u001b[1;33m[\u001b[0m\u001b[1;34m'title'\u001b[0m\u001b[1;33m,\u001b[0m \u001b[1;34m'review'\u001b[0m\u001b[1;33m]\u001b[0m\u001b[1;33m)\u001b[0m\u001b[1;33m\u001b[0m\u001b[0m\n\u001b[0m\u001b[0;32m     67\u001b[0m         \u001b[0mwriter\u001b[0m\u001b[1;33m.\u001b[0m\u001b[0mwriterows\u001b[0m\u001b[1;33m(\u001b[0m\u001b[0mcontent\u001b[0m\u001b[1;33m)\u001b[0m\u001b[1;33m\u001b[0m\u001b[0m\n\u001b[0;32m     68\u001b[0m \u001b[1;33m\u001b[0m\u001b[0m\n",
      "\u001b[1;31mTypeError\u001b[0m: a bytes-like object is required, not 'str'"
     ]
    }
   ],
   "source": [
    "import os\n",
    "from collections import Counter\n",
    "import pickle\n",
    "import csv\n",
    "\n",
    "def transform(pwd: str):\n",
    "    \"\"\"This program is to transform from each txt file to extract something useful.\n",
    "    pwd: a directory string where a txt file saves in.\n",
    "    \"\"\"\n",
    "    f = open(pwd, 'r')\n",
    "    message = f.read()\n",
    "    # print(message)\n",
    "    f.close()\n",
    "    \n",
    "    # there's one empty file: 11726.html\n",
    "    try:\n",
    "        title_raw = re.search('(<TITLE>)(.*)(\\\\n)', message).group(0)\n",
    "    except AttributeError:\n",
    "        print(pwd)\n",
    "        print('AttributeError')\n",
    "        title_raw = 'xxxxxxxxxxxxxxxxxxxxxxxxxNo Name foundxxxxxxxxxxxxxxxxxxxxxxxxxx'\n",
    "    title = title_raw[18:-9]\n",
    "    if title[:-7].endswith(', The'):\n",
    "        title_good = 'The '+title[:-12]+title[-7:]\n",
    "    elif title[:-7].endswith(', A'):\n",
    "        title_good = 'A '+title[:-10]+title[-7:]\n",
    "    elif title[:-7].endswith(', An'):\n",
    "        title_good = 'An '+title[:-11]+title[-7:]\n",
    "    else: \n",
    "        title_good = title\n",
    "\n",
    "    review_raw = re.findall('<P>[^>]*[^\\/P]', message)\n",
    "    review = \"\"\n",
    "    for i in range(len(review_raw)):\n",
    "        review+=review_raw[i][3:].strip()\n",
    "#     print(review)\n",
    "    # s\n",
    "    review = review.replace('</P>', ' ').replace('\\n', ' ').strip()\n",
    "#     print(review)\n",
    "\n",
    "    return title_good, review\n",
    "\n",
    "def all_files():\n",
    "    \"\"\"\n",
    "    A function to transverse all the txt file directories.\n",
    "    :return: the list containing all directory strings.\n",
    "    \"\"\"\n",
    "    all_file_list=[]\n",
    "    for root, dirs, files in os.walk(\"C:\\\\Users\\\\guany\\\\Desktop\\\\courses\\\\IS590TX\\\\project\\\\database\\\\imdb\\\\reviewdata\\\\moviereview\"):\n",
    "        for file in files:\n",
    "            if file.endswith(\".html\"):\n",
    "                all_file_list.append(os.path.join(root, file))\n",
    "                # print(os.path.join(root, file))\n",
    "    return all_file_list\n",
    "\n",
    "\n",
    "def main():\n",
    "    all_file_list = all_files()\n",
    "    content = []\n",
    "    for file in all_file_list:\n",
    "        (title, review) = transform(file)\n",
    "        content.append([title, review])\n",
    "\n",
    "    with open('step1.csv','wb') as f:\n",
    "        writer = csv.writer(f)\n",
    "        writer.writerow(['title', 'review'])\n",
    "        writer.writerows(content)\n",
    "\n",
    "    print('Well Done')\n",
    "    \n",
    "main()"
   ]
  },
  {
   "cell_type": "code",
   "execution_count": null,
   "metadata": {
    "collapsed": true
   },
   "outputs": [],
   "source": []
  },
  {
   "cell_type": "code",
   "execution_count": null,
   "metadata": {
    "collapsed": true
   },
   "outputs": [],
   "source": []
  },
  {
   "cell_type": "code",
   "execution_count": null,
   "metadata": {
    "collapsed": true
   },
   "outputs": [],
   "source": []
  },
  {
   "cell_type": "code",
   "execution_count": 83,
   "metadata": {},
   "outputs": [
    {
     "data": {
      "text/plain": [
       "['a', 'c', 'b']"
      ]
     },
     "execution_count": 83,
     "metadata": {},
     "output_type": "execute_result"
    }
   ],
   "source": [
    "kk = ['a','c']\n",
    "kk.append('b')\n",
    "\n",
    "kk"
   ]
  },
  {
   "cell_type": "code",
   "execution_count": null,
   "metadata": {
    "collapsed": true
   },
   "outputs": [],
   "source": []
  },
  {
   "cell_type": "code",
   "execution_count": null,
   "metadata": {
    "collapsed": true
   },
   "outputs": [],
   "source": []
  },
  {
   "cell_type": "code",
   "execution_count": null,
   "metadata": {
    "collapsed": true
   },
   "outputs": [],
   "source": []
  },
  {
   "cell_type": "code",
   "execution_count": 10,
   "metadata": {},
   "outputs": [
    {
     "data": {
      "text/plain": [
       "27886"
      ]
     },
     "execution_count": 10,
     "metadata": {},
     "output_type": "execute_result"
    }
   ],
   "source": [
    "F = all_files()\n",
    "len(F)"
   ]
  },
  {
   "cell_type": "code",
   "execution_count": 15,
   "metadata": {},
   "outputs": [
    {
     "data": {
      "text/plain": [
       "'C:\\\\Users\\\\guany\\\\Desktop\\\\courses\\\\IS590TX\\\\project\\\\database\\\\imdb\\\\reviewdata\\\\moviereview\\\\0003.html'"
      ]
     },
     "execution_count": 15,
     "metadata": {},
     "output_type": "execute_result"
    }
   ],
   "source": [
    "F[1]"
   ]
  },
  {
   "cell_type": "code",
   "execution_count": 26,
   "metadata": {},
   "outputs": [
    {
     "data": {
      "text/plain": [
       "('Review for Beyond Therapy (1987)',\n",
       " 'Set in the offices of two psychoanalysts, and in a very bad French restaurant, BEYOND THERAPY is a love story about two very confused people. Bruce (Jeff Goldblum) and Prudence (Julie Haggarty) meet through one of many personal ads Bruce has placed.  They have a disastrous lunch, and leave expecting never to see one an other again.  Of course, they do meet again. During the course of their relationship we are introduced to Bruce\\'s homosexual roommate/lover Bob, Bob\\'s \"theatrical\" mother, Bruce\\'s psychoanalyst, and Prudence\\'s psychoanalyst.  A series of bizarre coincidences puts these six people on a collision course with the hilarious climax. BEYOND THERAPY builds momentum slowly.  The first 45 minutes, during which the relationships between the main characters are reveled and expanded, are slow sometimes to the point of being tedious.  About half of the people in the audience walked out during this part of the film. But once all the players are lined up in their domino-like positions, the film delivers a 20-minute punch line worth the wait.  When the final push comes, the characters start to fall, and knock each other down with a very satisfying crash.')"
      ]
     },
     "execution_count": 26,
     "metadata": {},
     "output_type": "execute_result"
    }
   ],
   "source": [
    "transform(F[1])"
   ]
  },
  {
   "cell_type": "code",
   "execution_count": null,
   "metadata": {},
   "outputs": [],
   "source": []
  },
  {
   "cell_type": "code",
   "execution_count": 23,
   "metadata": {},
   "outputs": [
    {
     "data": {
      "text/plain": [
       "'Set in the offices of two psychoanalysts, and in a very bad French\\nrestaurant, BEYOND THERAPY is a love story about two very confused people.</P>Bruce (Jeff Goldblum) and Prudence (Julie Haggarty) meet through one of\\nmany personal ads Bruce has placed.  They have a disastrous lunch, and leave\\nexpecting never to see one an other again.  Of course, they do meet again.</P>During the course of their relationship we are introduced to Bruce\\'s\\nhomosexual roommate/lover Bob, Bob\\'s \"theatrical\" mother, Bruce\\'s\\npsychoanalyst, and Prudence\\'s psychoanalyst.  A series of bizarre coincidences\\nputs these six people on a collision course with the hilarious climax.</P>BEYOND THERAPY builds momentum slowly.  The first 45 minutes, during which\\nthe relationships between the main characters are reveled and expanded, are\\nslow sometimes to the point of being tedious.  About half of the people in the\\naudience walked out during this part of the film.</P>But once all the players are lined up in their domino-like positions, the\\nfilm delivers a 20-minute punch line worth the wait.  When the final push\\ncomes, the characters start to fall, and knock each other down with a very\\nsatisfying crash.</P>'"
      ]
     },
     "execution_count": 23,
     "metadata": {},
     "output_type": "execute_result"
    }
   ],
   "source": [
    "aa"
   ]
  },
  {
   "cell_type": "code",
   "execution_count": null,
   "metadata": {
    "collapsed": true
   },
   "outputs": [],
   "source": []
  },
  {
   "cell_type": "code",
   "execution_count": null,
   "metadata": {
    "collapsed": true
   },
   "outputs": [],
   "source": []
  },
  {
   "cell_type": "code",
   "execution_count": null,
   "metadata": {
    "collapsed": true
   },
   "outputs": [],
   "source": []
  },
  {
   "cell_type": "code",
   "execution_count": null,
   "metadata": {
    "collapsed": true
   },
   "outputs": [],
   "source": [
    "review.replace('</P>', ' ').replace('\\n', ' ').strip()"
   ]
  },
  {
   "cell_type": "code",
   "execution_count": null,
   "metadata": {
    "collapsed": true
   },
   "outputs": [],
   "source": [
    "ti"
   ]
  },
  {
   "cell_type": "code",
   "execution_count": null,
   "metadata": {
    "collapsed": true
   },
   "outputs": [],
   "source": []
  },
  {
   "cell_type": "code",
   "execution_count": null,
   "metadata": {
    "collapsed": true
   },
   "outputs": [],
   "source": []
  },
  {
   "cell_type": "code",
   "execution_count": null,
   "metadata": {
    "collapsed": true
   },
   "outputs": [],
   "source": []
  },
  {
   "cell_type": "code",
   "execution_count": null,
   "metadata": {
    "collapsed": true
   },
   "outputs": [],
   "source": []
  }
 ],
 "metadata": {
  "kernelspec": {
   "display_name": "Python 3",
   "language": "python",
   "name": "python3"
  },
  "language_info": {
   "codemirror_mode": {
    "name": "ipython",
    "version": 3
   },
   "file_extension": ".py",
   "mimetype": "text/x-python",
   "name": "python",
   "nbconvert_exporter": "python",
   "pygments_lexer": "ipython3",
   "version": "3.6.3"
  }
 },
 "nbformat": 4,
 "nbformat_minor": 2
}
