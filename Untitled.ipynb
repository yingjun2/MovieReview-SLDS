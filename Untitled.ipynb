{
 "cells": [
  {
   "cell_type": "code",
   "execution_count": 2,
   "metadata": {
    "collapsed": true
   },
   "outputs": [],
   "source": [
    "import re\n",
    "from nltk import tokenize\n",
    "import os\n",
    "from collections import Counter\n",
    "import pickle"
   ]
  },
  {
   "cell_type": "code",
   "execution_count": 119,
   "metadata": {},
   "outputs": [
    {
     "ename": "FileNotFoundError",
     "evalue": "[Errno 2] No such file or directory: '11726.html'",
     "output_type": "error",
     "traceback": [
      "\u001b[1;31m---------------------------------------------------------------------------\u001b[0m",
      "\u001b[1;31mFileNotFoundError\u001b[0m                         Traceback (most recent call last)",
      "\u001b[1;32m<ipython-input-119-0b0723056501>\u001b[0m in \u001b[0;36m<module>\u001b[1;34m()\u001b[0m\n\u001b[0;32m      1\u001b[0m \u001b[0mpwd\u001b[0m \u001b[1;33m=\u001b[0m \u001b[1;34m'11726.html'\u001b[0m\u001b[1;33m\u001b[0m\u001b[0m\n\u001b[1;32m----> 2\u001b[1;33m \u001b[0mf\u001b[0m \u001b[1;33m=\u001b[0m \u001b[0mopen\u001b[0m\u001b[1;33m(\u001b[0m\u001b[0mpwd\u001b[0m\u001b[1;33m,\u001b[0m \u001b[1;34m'r'\u001b[0m\u001b[1;33m)\u001b[0m\u001b[1;33m\u001b[0m\u001b[0m\n\u001b[0m\u001b[0;32m      3\u001b[0m \u001b[0mmessage\u001b[0m \u001b[1;33m=\u001b[0m \u001b[0mf\u001b[0m\u001b[1;33m.\u001b[0m\u001b[0mread\u001b[0m\u001b[1;33m(\u001b[0m\u001b[1;33m)\u001b[0m\u001b[1;33m\u001b[0m\u001b[0m\n\u001b[0;32m      4\u001b[0m \u001b[1;31m# print(message)\u001b[0m\u001b[1;33m\u001b[0m\u001b[1;33m\u001b[0m\u001b[0m\n\u001b[0;32m      5\u001b[0m \u001b[0mf\u001b[0m\u001b[1;33m.\u001b[0m\u001b[0mclose\u001b[0m\u001b[1;33m(\u001b[0m\u001b[1;33m)\u001b[0m\u001b[1;33m\u001b[0m\u001b[0m\n",
      "\u001b[1;31mFileNotFoundError\u001b[0m: [Errno 2] No such file or directory: '11726.html'"
     ]
    }
   ],
   "source": [
    "pwd = '11726.html'\n",
    "f = open(pwd, 'r')\n",
    "message = f.read()\n",
    "# print(message)\n",
    "f.close()"
   ]
  },
  {
   "cell_type": "code",
   "execution_count": 118,
   "metadata": {
    "scrolled": true
   },
   "outputs": [
    {
     "name": "stdout",
     "output_type": "stream",
     "text": [
      "<HTML><HEAD>\n",
      "<TITLE>Review for Hitcher, The (1986)</TITLE>\n",
      "<LINK REL=\"STYLESHEET\" TYPE=\"text/css\" HREF=\"/ramr.css\">\n",
      "</HEAD>\n",
      "<BODY BGCOLOR=\"#FFFFFF\" TEXT=\"#000000\">\n",
      "<H1 ALIGN=\"CENTER\" CLASS=\"title\"><A HREF=\"/Title?0091209\">Hitcher, The (1986)</A></H1><H3 ALIGN=CENTER>reviewed by<BR><A HREF=\"/ReviewsBy?Mark+R.+Leeper\">Mark R. Leeper</A></H3><HR WIDTH=\"40%\" SIZE=\"4\">\n",
      "<P>[Editor's note: Sites running 2.10 netnews will munge headers of articles in\n",
      "moderated  groups *not* named mod.something.  If you get my name instead of\n",
      "Mark Leeper's in the \"From:\" line, please encourage your S.A. and your feed's\n",
      "S.A. to upgrade to 2.11.  Thank you.  And now, on to our review... -ecl]</P>\n",
      "<PRE>                                 THE HITCHER\n",
      "                       A film review by Mark R. Leeper\n",
      "                        Copyright 1987 Mark R. Leeper</PRE>\n",
      "<P>          Capsule review:  Boring actioner about a psychotic\n",
      "     hitchhiker whom the scriptwriter makes unkillable.\n",
      "     Contrived, unbelievable, and ultimately dull thriller is one\n",
      "     more film to waste Rutger Hauer.</P>\n",
      "<P>     You want a thriller with lots of mindless action, no logic, and a bunch\n",
      "of fractional-dimensional characters.  Cable this month is running what\n",
      "passes for entertainment in some quarters.  The film is THE HITCHER and as a\n",
      "friend of mine would say, it sucks pond water.  Actually I think this one\n",
      "could turn back a raging river.</P>\n",
      "<P>     Our main character--I don't think we ever get his name so I will call\n",
      "him Poor Schnook--is a teenager driving a car from Chicago to San Diego by\n",
      "way of nearly empty Texas roads.  Schnook picks up a psychotic killer played\n",
      "by Rutger Hauer, who adds one more implacable killer to his list of roles.\n",
      "Hauer had better start being more selective in his roles or he will lose the\n",
      "aura he had from SOLDIER OF ORANGE and BLADERUNNER.  From the point he gets\n",
      "picked up, Hauer does everything right.  He is always in just the right\n",
      "place at the right instant.  It is not long before the police think Poor\n",
      "Schnook is the killer and these are not your ordinary police.  They have\n",
      "intelligence roughly equivalent to protozoa.  In a scene we see only the\n",
      "aftermath of, Hauer has wiped out an entire police station with apparently\n",
      "no more than a knife.  In one carefully choreographed scene, with one bullet\n",
      "Hauer knocks out one police helicopter and two police cars whose occupants\n",
      "somehow missed seeing the slowly dropping helicopter fall.  The more\n",
      "destruction there is, the more the police want to kill Poor Schnook and the\n",
      "less interested they are in hearing his claims that someone else is\n",
      "responsible.</P>\n",
      "<P>     The plot of the innocent bystander who gets in over his head is\n",
      "standard thriller stuff and can be well done.  The innocent bystander\n",
      "against the villain who does everything right is an old one.  In a sense THE\n",
      "HITCHER has the same basic (very basic) plot as NORTH BY NORTHWEST but\n",
      "instead of the characters and the wit, THE HITCHER gives us just more\n",
      "mindless action scenes.  Perhaps part of the reason audiences are getting\n",
      "more unruly is that in a film like NORTH BY NORTHWEST you want to hear what\n",
      "the characters are saying, while in a film like THE HITCHER it is much less\n",
      "important.  And one car engine sounds a lot like another.  Rate this one a\n",
      "-2 on the -4 to +4 scale.</P>\n",
      "<PRE>                                        Mark R. Leeper\n",
      "                                        ihnp4!mtgzz!leeper\n",
      "                                        <A HREF=\"mailto:mtgzz!leeper@rutgers.rutgers.edu\">mtgzz!leeper@rutgers.rutgers.edu</A></PRE>\n",
      "<HR><P CLASS=flush><SMALL>The review above was posted to the\n",
      "<A HREF=\"news:rec.arts.movies.reviews\">rec.arts.movies.reviews</A> newsgroup (<A HREF=\"news:de.rec.film.kritiken\">de.rec.film.kritiken</A> for German reviews).<BR>\n",
      "The Internet Movie Database accepts no responsibility for the contents of the\n",
      "review and has no editorial control. Unless stated otherwise, the copyright\n",
      "belongs to the author.<BR>\n",
      "Please direct comments/criticisms of the review to relevant newsgroups.<BR>\n",
      "Broken URLs inthe reviews are the responsibility of the author.<BR>\n",
      "The formatting of the review is likely to differ from the original due\n",
      "to ASCII to HTML conversion.\n",
      "</SMALL></P>\n",
      "<P ALIGN=CENTER>Related links: <A HREF=\"/Reviews/\">index of all rec.arts.movies.reviews reviews</A></P>\n",
      "\n",
      "\n",
      "\n",
      "</P></BODY></HTML>\n",
      "\n"
     ]
    }
   ],
   "source": [
    "print(message)"
   ]
  },
  {
   "cell_type": "code",
   "execution_count": 109,
   "metadata": {},
   "outputs": [
    {
     "ename": "SyntaxError",
     "evalue": "invalid syntax (<ipython-input-109-c97c7d6ac53e>, line 1)",
     "output_type": "error",
     "traceback": [
      "\u001b[1;36m  File \u001b[1;32m\"<ipython-input-109-c97c7d6ac53e>\"\u001b[1;36m, line \u001b[1;32m1\u001b[0m\n\u001b[1;33m    <TITLE>Review for Hitcher, The (1986)</TITLE>\\n\u001b[0m\n\u001b[1;37m    ^\u001b[0m\n\u001b[1;31mSyntaxError\u001b[0m\u001b[1;31m:\u001b[0m invalid syntax\n"
     ]
    }
   ],
   "source": [
    "<TITLE>Review for Hitcher, The (1986)</TITLE>\\n"
   ]
  },
  {
   "cell_type": "code",
   "execution_count": 110,
   "metadata": {},
   "outputs": [
    {
     "data": {
      "text/plain": [
       "'Set in the offices of two psychoanalysts, and in a very bad French restaurant, BEYOND THERAPY is a love story about two very confused people. Bruce (Jeff Goldblum) and Prudence (Julie Haggarty) meet through one of many personal ads Bruce has placed.  They have a disastrous lunch, and leave expecting never to see one an other again.  Of course, they do meet again. During the course of their relationship we are introduced to Bruce\\'s homosexual roommate/lover Bob, Bob\\'s \"theatrical\" mother, Bruce\\'s psychoanalyst, and Prudence\\'s psychoanalyst.  A series of bizarre coincidences puts these six people on a collision course with the hilarious climax. BEYOND THERAPY builds momentum slowly.  The first 45 minutes, during which the relationships between the main characters are reveled and expanded, are slow sometimes to the point of being tedious.  About half of the people in the audience walked out during this part of the film. But once all the players are lined up in their domino-like positions, the film delivers a 20-minute punch line worth the wait.  When the final push comes, the characters start to fall, and knock each other down with a very satisfying crash.'"
      ]
     },
     "execution_count": 110,
     "metadata": {},
     "output_type": "execute_result"
    }
   ],
   "source": [
    "review_raw = re.findall('<P>[^>]*[^\\/P]', message)\n",
    "review = \"\"\n",
    "for i in range(len(review_raw)):\n",
    "    review+=review_raw[i][3:].strip()\n",
    "# s\n",
    "review.replace('</P>', ' ').replace('\\n', ' ').strip()"
   ]
  },
  {
   "cell_type": "code",
   "execution_count": null,
   "metadata": {
    "collapsed": true
   },
   "outputs": [],
   "source": []
  },
  {
   "cell_type": "code",
   "execution_count": null,
   "metadata": {
    "collapsed": true
   },
   "outputs": [],
   "source": []
  },
  {
   "cell_type": "code",
   "execution_count": null,
   "metadata": {
    "collapsed": true
   },
   "outputs": [],
   "source": []
  },
  {
   "cell_type": "code",
   "execution_count": null,
   "metadata": {
    "collapsed": true
   },
   "outputs": [],
   "source": []
  },
  {
   "cell_type": "code",
   "execution_count": 8,
   "metadata": {
    "collapsed": true
   },
   "outputs": [],
   "source": [
    "title_raw = re.search('(<TITLE>)(.*)(\\\\n)', message).group(0)\n",
    "title = title_raw[7:-9]"
   ]
  },
  {
   "cell_type": "code",
   "execution_count": 18,
   "metadata": {},
   "outputs": [
    {
     "data": {
      "text/plain": [
       "'Review for Hitcher, The (1986)'"
      ]
     },
     "execution_count": 18,
     "metadata": {},
     "output_type": "execute_result"
    }
   ],
   "source": [
    "org_raw[7:-9]"
   ]
  },
  {
   "cell_type": "code",
   "execution_count": null,
   "metadata": {
    "collapsed": true
   },
   "outputs": [],
   "source": []
  },
  {
   "cell_type": "code",
   "execution_count": null,
   "metadata": {
    "collapsed": true
   },
   "outputs": [],
   "source": []
  },
  {
   "cell_type": "code",
   "execution_count": 50,
   "metadata": {},
   "outputs": [
    {
     "data": {
      "text/plain": [
       "'<HTML><HEAD>\\n<TITLE>Review for Beyond Therapy (1987)</TITLE>\\n<LINK REL=\"STYLESHEET\" TYPE=\"text/css\" HREF=\"/ramr.css\">\\n</HEAD>\\n<BODY BGCOLOR=\"#FFFFFF\" TEXT=\"#000000\">\\n<H1 ALIGN=\"CENTER\" CLASS=\"title\"><A HREF=\"/Title?0092646\">Beyond Therapy (1987)</A></H1><H3 ALIGN=CENTER>reviewed by<BR><A HREF=\"/ReviewsBy?Steve+Fritzinger\">Steve Fritzinger</A></H3><HR WIDTH=\"40%\" SIZE=\"4\">\\n<PRE>\\n                        BEYOND THERAPY\\n                A film review by Steve Fritzinger\\n                 Copyright 1987 Steve Fritzinger</PRE>\\n<P>     Set in the offices of two psychoanalysts, and in a very bad French\\nrestaurant, BEYOND THERAPY is a love story about two very confused people.</P>\\n<P>     Bruce (Jeff Goldblum) and Prudence (Julie Haggarty) meet through one of\\nmany personal ads Bruce has placed.  They have a disastrous lunch, and leave\\nexpecting never to see one an other again.  Of course, they do meet again.</P>\\n<P>     During the course of their relationship we are introduced to Bruce\\'s\\nhomosexual roommate/lover Bob, Bob\\'s \"theatrical\" mother, Bruce\\'s\\npsychoanalyst, and Prudence\\'s psychoanalyst.  A series of bizarre coincidences\\nputs these six people on a collision course with the hilarious climax.</P>\\n<P>     BEYOND THERAPY builds momentum slowly.  The first 45 minutes, during which\\nthe relationships between the main characters are reveled and expanded, are\\nslow sometimes to the point of being tedious.  About half of the people in the\\naudience walked out during this part of the film.</P>\\n<P>     But once all the players are lined up in their domino-like positions, the\\nfilm delivers a 20-minute punch line worth the wait.  When the final push\\ncomes, the characters start to fall, and knock each other down with a very\\nsatisfying crash.</P>\\n<PRE>     I rate it +2 on the -4 to +4 scale.\\n-- \\nSteve Fritzinger CCI-OSG Reston,Va.\\nseismo!rlgvax!jsf</PRE>\\n<HR><P CLASS=flush><SMALL>The review above was posted to the\\n<A HREF=\"news:rec.arts.movies.reviews\">rec.arts.movies.reviews</A> newsgroup (<A HREF=\"news:de.rec.film.kritiken\">de.rec.film.kritiken</A> for German reviews).<BR>\\nThe Internet Movie Database accepts no responsibility for the contents of the\\nreview and has no editorial control. Unless stated otherwise, the copyright\\nbelongs to the author.<BR>\\nPlease direct comments/criticisms of the review to relevant newsgroups.<BR>\\nBroken URLs inthe reviews are the responsibility of the author.<BR>\\nThe formatting of the review is likely to differ from the original due\\nto ASCII to HTML conversion.\\n</SMALL></P>\\n<P ALIGN=CENTER>Related links: <A HREF=\"/Reviews/\">index of all rec.arts.movies.reviews reviews</A></P>\\n\\n\\n\\n</P></BODY></HTML>\\n'"
      ]
     },
     "execution_count": 50,
     "metadata": {},
     "output_type": "execute_result"
    }
   ],
   "source": [
    "message"
   ]
  },
  {
   "cell_type": "code",
   "execution_count": 99,
   "metadata": {},
   "outputs": [],
   "source": []
  },
  {
   "cell_type": "code",
   "execution_count": 73,
   "metadata": {},
   "outputs": [],
   "source": [
    "# review = dumm for dummy in review_raww"
   ]
  },
  {
   "cell_type": "code",
   "execution_count": 100,
   "metadata": {},
   "outputs": [],
   "source": [
    "# print(review_raw.pop(0))"
   ]
  },
  {
   "cell_type": "code",
   "execution_count": 101,
   "metadata": {},
   "outputs": [],
   "source": [
    "# review = ' ',\n",
    "# while True:\n",
    "#     temp = review_raw.pop(0)\n",
    "#     review += temp\n",
    "#     print(review)"
   ]
  },
  {
   "cell_type": "code",
   "execution_count": 111,
   "metadata": {},
   "outputs": [
    {
     "data": {
      "text/plain": [
       "'Set in the offices of two psychoanalysts, and in a very bad French restaurant, BEYOND THERAPY is a love story about two very confused people. Bruce (Jeff Goldblum) and Prudence (Julie Haggarty) meet through one of many personal ads Bruce has placed.  They have a disastrous lunch, and leave expecting never to see one an other again.  Of course, they do meet again. During the course of their relationship we are introduced to Bruce\\'s homosexual roommate/lover Bob, Bob\\'s \"theatrical\" mother, Bruce\\'s psychoanalyst, and Prudence\\'s psychoanalyst.  A series of bizarre coincidences puts these six people on a collision course with the hilarious climax. BEYOND THERAPY builds momentum slowly.  The first 45 minutes, during which the relationships between the main characters are reveled and expanded, are slow sometimes to the point of being tedious.  About half of the people in the audience walked out during this part of the film. But once all the players are lined up in their domino-like positions, the film delivers a 20-minute punch line worth the wait.  When the final push comes, the characters start to fall, and knock each other down with a very satisfying crash.'"
      ]
     },
     "execution_count": 111,
     "metadata": {},
     "output_type": "execute_result"
    }
   ],
   "source": [
    "review_raw = re.findall('<P>[^>]*[^\\/P]', message)\n",
    "review = \"\"\n",
    "for i in range(len(review_raw)):\n",
    "    review+=review_raw[i][3:].strip()\n",
    "# s\n",
    "review.replace('</P>', ' ').replace('\\n', ' ').strip()"
   ]
  },
  {
   "cell_type": "code",
   "execution_count": 112,
   "metadata": {},
   "outputs": [],
   "source": [
    "# review_raw[]"
   ]
  },
  {
   "cell_type": "code",
   "execution_count": 113,
   "metadata": {},
   "outputs": [],
   "source": [
    "# review_raw[0]"
   ]
  },
  {
   "cell_type": "code",
   "execution_count": null,
   "metadata": {
    "collapsed": true
   },
   "outputs": [],
   "source": []
  },
  {
   "cell_type": "code",
   "execution_count": 114,
   "metadata": {},
   "outputs": [],
   "source": [
    "# re.search('(<P>)[^>]*[^\\/P]', message).group(0)"
   ]
  },
  {
   "cell_type": "code",
   "execution_count": null,
   "metadata": {
    "collapsed": true
   },
   "outputs": [],
   "source": []
  },
  {
   "cell_type": "code",
   "execution_count": null,
   "metadata": {
    "collapsed": true
   },
   "outputs": [],
   "source": []
  },
  {
   "cell_type": "code",
   "execution_count": 115,
   "metadata": {
    "collapsed": true
   },
   "outputs": [],
   "source": [
    "def transform(pwd: str):\n",
    "    \"\"\"This program is to transform from each txt file to extract something useful.\n",
    "    pwd: a directory string where a txt file saves in.\n",
    "    \"\"\"\n",
    "    # pwd = 'C:/Users/guany/Desktop/courses/IS590TX/ass1/Part1/awards_1990/awd_1990_00/a9000006.txt'\n",
    "    # print(pwd)\n",
    "    f = open(pwd, 'r')\n",
    "    message = f.read()\n",
    "    # print(message)\n",
    "    f.close()\n",
    "\n",
    "    title_raw = re.search('(<TITLE>)(.*)(\\\\n)', message).group(0)\n",
    "    title = title_raw[7:-9]\n",
    "\n",
    "    review_raw = re.findall('<P>[^>]*[^\\/P]', message)\n",
    "    review = \"\"\n",
    "    for i in range(len(review_raw)):\n",
    "        review+=review_raw[i][3:].strip()\n",
    "    # s\n",
    "    review.replace('</P>', ' ').replace('\\n', ' ').strip()\n",
    "\n",
    "    return title, review"
   ]
  },
  {
   "cell_type": "code",
   "execution_count": 4,
   "metadata": {},
   "outputs": [
    {
     "ename": "AttributeError",
     "evalue": "'NoneType' object has no attribute 'group'",
     "output_type": "error",
     "traceback": [
      "\u001b[1;31m---------------------------------------------------------------------------\u001b[0m",
      "\u001b[1;31mAttributeError\u001b[0m                            Traceback (most recent call last)",
      "\u001b[1;32m<ipython-input-4-6064a7771dee>\u001b[0m in \u001b[0;36m<module>\u001b[1;34m()\u001b[0m\n\u001b[1;32m----> 1\u001b[1;33m \u001b[0mtransform\u001b[0m\u001b[1;33m(\u001b[0m\u001b[1;34m'0002.html'\u001b[0m\u001b[1;33m)\u001b[0m\u001b[1;33m\u001b[0m\u001b[0m\n\u001b[0m",
      "\u001b[1;32m<ipython-input-3-2534e8cf9865>\u001b[0m in \u001b[0;36mtransform\u001b[1;34m(pwd)\u001b[0m\n\u001b[0;32m     11\u001b[0m \u001b[1;33m\u001b[0m\u001b[0m\n\u001b[0;32m     12\u001b[0m     \u001b[1;31m# target1: [NSF Org     : DEB \\n]\u001b[0m\u001b[1;33m\u001b[0m\u001b[1;33m\u001b[0m\u001b[0m\n\u001b[1;32m---> 13\u001b[1;33m     \u001b[0morg_raw\u001b[0m \u001b[1;33m=\u001b[0m \u001b[0mre\u001b[0m\u001b[1;33m.\u001b[0m\u001b[0msearch\u001b[0m\u001b[1;33m(\u001b[0m\u001b[1;34m'(NSF Org     :)(.*)(\\\\n)'\u001b[0m\u001b[1;33m,\u001b[0m \u001b[0mmessage\u001b[0m\u001b[1;33m)\u001b[0m\u001b[1;33m.\u001b[0m\u001b[0mgroup\u001b[0m\u001b[1;33m(\u001b[0m\u001b[1;36m0\u001b[0m\u001b[1;33m)\u001b[0m\u001b[1;33m\u001b[0m\u001b[0m\n\u001b[0m\u001b[0;32m     14\u001b[0m     \u001b[1;31m# print(org_raw)\u001b[0m\u001b[1;33m\u001b[0m\u001b[1;33m\u001b[0m\u001b[0m\n\u001b[0;32m     15\u001b[0m     \u001b[1;31m# m # 'NSF Org     : DEB \\n'\u001b[0m\u001b[1;33m\u001b[0m\u001b[1;33m\u001b[0m\u001b[0m\n",
      "\u001b[1;31mAttributeError\u001b[0m: 'NoneType' object has no attribute 'group'"
     ]
    }
   ],
   "source": [
    "transform('0002.html')"
   ]
  },
  {
   "cell_type": "code",
   "execution_count": 1,
   "metadata": {},
   "outputs": [
    {
     "name": "stdout",
     "output_type": "stream",
     "text": [
      "<class 'list'> 51760\n"
     ]
    },
    {
     "ename": "KeyboardInterrupt",
     "evalue": "",
     "output_type": "error",
     "traceback": [
      "\u001b[1;31m---------------------------------------------------------------------------\u001b[0m",
      "\u001b[1;31mKeyboardInterrupt\u001b[0m                         Traceback (most recent call last)",
      "\u001b[1;32m<ipython-input-1-d5cb560cd200>\u001b[0m in \u001b[0;36m<module>\u001b[1;34m()\u001b[0m\n\u001b[0;32m     88\u001b[0m     \u001b[0mprint\u001b[0m\u001b[1;33m(\u001b[0m\u001b[1;34m'Well Done!'\u001b[0m\u001b[1;33m)\u001b[0m\u001b[1;33m\u001b[0m\u001b[0m\n\u001b[0;32m     89\u001b[0m \u001b[1;33m\u001b[0m\u001b[0m\n\u001b[1;32m---> 90\u001b[1;33m \u001b[0mmain\u001b[0m\u001b[1;33m(\u001b[0m\u001b[1;33m)\u001b[0m  \u001b[1;31m# Invoke the main function\u001b[0m\u001b[1;33m\u001b[0m\u001b[0m\n\u001b[0m\u001b[0;32m     91\u001b[0m \u001b[1;33m\u001b[0m\u001b[0m\n",
      "\u001b[1;32m<ipython-input-1-d5cb560cd200>\u001b[0m in \u001b[0;36mmain\u001b[1;34m()\u001b[0m\n\u001b[0;32m     70\u001b[0m \u001b[1;33m\u001b[0m\u001b[0m\n\u001b[0;32m     71\u001b[0m     \u001b[1;32mfor\u001b[0m \u001b[0mfile\u001b[0m \u001b[1;32min\u001b[0m \u001b[0mall_file_list\u001b[0m\u001b[1;33m:\u001b[0m\u001b[1;33m\u001b[0m\u001b[0m\n\u001b[1;32m---> 72\u001b[1;33m         \u001b[1;33m(\u001b[0m\u001b[0morg\u001b[0m\u001b[1;33m,\u001b[0m \u001b[0msentences_count\u001b[0m\u001b[1;33m,\u001b[0m \u001b[0moutputline\u001b[0m\u001b[1;33m)\u001b[0m \u001b[1;33m=\u001b[0m \u001b[0mtransform\u001b[0m\u001b[1;33m(\u001b[0m\u001b[0mfile\u001b[0m\u001b[1;33m)\u001b[0m\u001b[1;33m\u001b[0m\u001b[0m\n\u001b[0m\u001b[0;32m     73\u001b[0m         \u001b[1;31m# print(org, sentences_count)\u001b[0m\u001b[1;33m\u001b[0m\u001b[1;33m\u001b[0m\u001b[0m\n\u001b[0;32m     74\u001b[0m         \u001b[0morg_list\u001b[0m \u001b[1;33m+=\u001b[0m \u001b[1;33m[\u001b[0m\u001b[0morg\u001b[0m\u001b[1;33m]\u001b[0m\u001b[1;33m\u001b[0m\u001b[0m\n",
      "\u001b[1;32m<ipython-input-1-d5cb560cd200>\u001b[0m in \u001b[0;36mtransform\u001b[1;34m(pwd)\u001b[0m\n\u001b[0;32m     13\u001b[0m     \u001b[1;31m# pwd = 'C:/Users/guany/Desktop/courses/IS590TX/ass1/Part1/awards_1990/awd_1990_00/a9000006.txt'\u001b[0m\u001b[1;33m\u001b[0m\u001b[1;33m\u001b[0m\u001b[0m\n\u001b[0;32m     14\u001b[0m     \u001b[1;31m# print(pwd)\u001b[0m\u001b[1;33m\u001b[0m\u001b[1;33m\u001b[0m\u001b[0m\n\u001b[1;32m---> 15\u001b[1;33m     \u001b[0mf\u001b[0m \u001b[1;33m=\u001b[0m \u001b[0mopen\u001b[0m\u001b[1;33m(\u001b[0m\u001b[0mpwd\u001b[0m\u001b[1;33m,\u001b[0m \u001b[1;34m'r'\u001b[0m\u001b[1;33m)\u001b[0m\u001b[1;33m\u001b[0m\u001b[0m\n\u001b[0m\u001b[0;32m     16\u001b[0m     \u001b[0mmessage\u001b[0m \u001b[1;33m=\u001b[0m \u001b[0mf\u001b[0m\u001b[1;33m.\u001b[0m\u001b[0mread\u001b[0m\u001b[1;33m(\u001b[0m\u001b[1;33m)\u001b[0m\u001b[1;33m\u001b[0m\u001b[0m\n\u001b[0;32m     17\u001b[0m     \u001b[1;31m# print(message)\u001b[0m\u001b[1;33m\u001b[0m\u001b[1;33m\u001b[0m\u001b[0m\n",
      "\u001b[1;32m~\\Anaconda3\\lib\\_bootlocale.py\u001b[0m in \u001b[0;36mgetpreferredencoding\u001b[1;34m(do_setlocale)\u001b[0m\n\u001b[0;32m      9\u001b[0m \u001b[1;33m\u001b[0m\u001b[0m\n\u001b[0;32m     10\u001b[0m \u001b[1;32mif\u001b[0m \u001b[0msys\u001b[0m\u001b[1;33m.\u001b[0m\u001b[0mplatform\u001b[0m\u001b[1;33m.\u001b[0m\u001b[0mstartswith\u001b[0m\u001b[1;33m(\u001b[0m\u001b[1;34m\"win\"\u001b[0m\u001b[1;33m)\u001b[0m\u001b[1;33m:\u001b[0m\u001b[1;33m\u001b[0m\u001b[0m\n\u001b[1;32m---> 11\u001b[1;33m     \u001b[1;32mdef\u001b[0m \u001b[0mgetpreferredencoding\u001b[0m\u001b[1;33m(\u001b[0m\u001b[0mdo_setlocale\u001b[0m\u001b[1;33m=\u001b[0m\u001b[1;32mTrue\u001b[0m\u001b[1;33m)\u001b[0m\u001b[1;33m:\u001b[0m\u001b[1;33m\u001b[0m\u001b[0m\n\u001b[0m\u001b[0;32m     12\u001b[0m         \u001b[1;32mreturn\u001b[0m \u001b[0m_locale\u001b[0m\u001b[1;33m.\u001b[0m\u001b[0m_getdefaultlocale\u001b[0m\u001b[1;33m(\u001b[0m\u001b[1;33m)\u001b[0m\u001b[1;33m[\u001b[0m\u001b[1;36m1\u001b[0m\u001b[1;33m]\u001b[0m\u001b[1;33m\u001b[0m\u001b[0m\n\u001b[0;32m     13\u001b[0m \u001b[1;32melse\u001b[0m\u001b[1;33m:\u001b[0m\u001b[1;33m\u001b[0m\u001b[0m\n",
      "\u001b[1;31mKeyboardInterrupt\u001b[0m: "
     ]
    }
   ],
   "source": [
    "import re\n",
    "from nltk import tokenize\n",
    "import os\n",
    "from collections import Counter\n",
    "import pickle\n",
    "\n",
    "def transform(pwd: str):\n",
    "    \"\"\"This program is to transform from each txt file to extract something useful.\n",
    "    pwd: a directory string where a txt file saves in.\n",
    "    \"\"\"\n",
    "    # pwd = 'C:/Users/guany/Desktop/courses/IS590TX/ass1/Part1/awards_1990/awd_1990_00/a9000006.txt'\n",
    "    # print(pwd)\n",
    "    f = open(pwd, 'r')\n",
    "    message = f.read()\n",
    "    # print(message)\n",
    "    f.close()\n",
    "\n",
    "    title_raw = re.search('(<TITLE>)(.*)(\\\\n)', message).group(0)\n",
    "    title = title_raw[7:-9]\n",
    "\n",
    "    review_raw = re.findall('<P>[^>]*[^\\/P]', message)\n",
    "    review = \"\"\n",
    "    for i in range(len(review_raw)):\n",
    "        review+=review_raw[i][3:].strip()\n",
    "    # s\n",
    "    review.replace('</P>', ' ').replace('\\n', ' ').strip()\n",
    "\n",
    "    return title, review\n",
    "\n",
    "def all_files():\n",
    "    \"\"\"\n",
    "    A function to transverse all the txt file directories.\n",
    "    :return: the list containing all directory strings.\n",
    "    \"\"\"\n",
    "    all_file_list=[]\n",
    "    for root, dirs, files in os.walk(\"C:/Users/guany/Desktop/courses/IS590TX/ass1/Part1\"):\n",
    "        for file in files:\n",
    "            if file.endswith(\".txt\"):\n",
    "                all_file_list.append(os.path.join(root, file))\n",
    "                # print(os.path.join(root, file))\n",
    "    return all_file_list\n",
    "\n",
    "\n",
    "def main():\n",
    "    all_file_list = all_files()\n",
    "    print(type(all_file_list), len(all_file_list))\n",
    "    org_list = []\n",
    "    sentences_count_list = []\n",
    "    outputline_list = []\n",
    "\n",
    "    for file in all_file_list:\n",
    "        (org, sentences_count, outputline) = transform(file)\n",
    "        # print(org, sentences_count)\n",
    "        org_list += [org]\n",
    "        sentences_count_list += [sentences_count]\n",
    "        outputline_list += outputline\n",
    "\n",
    "    print(Counter(org_list))\n",
    "    print(Counter(sentences_count_list))\n",
    "    # print(Counter(outputline_list))\n",
    "    with open('output.txt', 'wb') as fp:\n",
    "        pickle.dump(outputline_list, fp)\n",
    "\n",
    "    thefile = open('output2.txt', 'w')\n",
    "    for item in outputline_list:\n",
    "        thefile.write(\"%s\\n\" % item)\n",
    "\n",
    "    print('Well Done!')\n",
    "\n",
    "main()  # Invoke the main function\n",
    "\n"
   ]
  },
  {
   "cell_type": "code",
   "execution_count": null,
   "metadata": {
    "collapsed": true
   },
   "outputs": [],
   "source": []
  }
 ],
 "metadata": {
  "kernelspec": {
   "display_name": "Python 3",
   "language": "python",
   "name": "python3"
  },
  "language_info": {
   "codemirror_mode": {
    "name": "ipython",
    "version": 3
   },
   "file_extension": ".py",
   "mimetype": "text/x-python",
   "name": "python",
   "nbconvert_exporter": "python",
   "pygments_lexer": "ipython3",
   "version": "3.6.3"
  }
 },
 "nbformat": 4,
 "nbformat_minor": 2
}
