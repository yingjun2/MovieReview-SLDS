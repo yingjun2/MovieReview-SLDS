{
 "cells": [
  {
   "cell_type": "code",
   "execution_count": null,
   "metadata": {
    "collapsed": true
   },
   "outputs": [],
   "source": [
    "import re\n",
    "from nltk import tokenize\n",
    "import os\n",
    "from collections import Counter\n",
    "import pickle\n",
    "\n",
    "def transform(pwd: str):\n",
    "    \"\"\"This program is to transform from each txt file to extract something useful.\n",
    "    pwd: a directory string where a txt file saves in.\n",
    "    \"\"\"\n",
    "    # pwd = 'C:/Users/guany/Desktop/courses/IS590TX/ass1/Part1/awards_1990/awd_1990_00/a9000006.txt'\n",
    "    # print(pwd)\n",
    "    f = open(pwd, 'r')\n",
    "    message = f.read()\n",
    "    # print(message)\n",
    "    f.close()\n",
    "    \n",
    "    try ddd:\n",
    "        title_raw = re.search('(<TITLE>)(.*)(\\\\n)', message).group(0)\n",
    "    except \n",
    "    title = title_raw[7:-9]\n",
    "\n",
    "    review_raw = re.findall('<P>[^>]*[^\\/P]', message)\n",
    "    review = \"\"\n",
    "    for i in range(len(review_raw)):\n",
    "        review+=review_raw[i][3:].strip()\n",
    "#     print(review)\n",
    "    # s\n",
    "    review = review.replace('</P>', ' ').replace('\\n', ' ').strip()\n",
    "#     print(review)\n",
    "\n",
    "    return title, review\n",
    "\n",
    "def all_files():\n",
    "    \"\"\"\n",
    "    A function to transverse all the txt file directories.\n",
    "    :return: the list containing all directory strings.\n",
    "    \"\"\"\n",
    "    all_file_list=[]\n",
    "#     for root, dirs, files in os.walk(\"C:/Users/guany/Desktop/courses/IS590TX/project/database/imdb/reviewdata/moviereview\"):\n",
    "    for root, dirs, files in os.walk(\"C:\\\\Users\\\\guany\\\\Desktop\\\\courses\\\\IS590TX\\\\project\\\\database\\\\imdb\\\\reviewdata\\\\moviereview\"):\n",
    "        for file in files:\n",
    "            if file.endswith(\".html\"):\n",
    "                all_file_list.append(os.path.join(root, file))\n",
    "                # print(os.path.join(root, file))\n",
    "    return all_file_list\n",
    "\n",
    "\n",
    "def main():\n",
    "    all_file_list = all_files()\n",
    "#     print(type(all_file_list), len(all_file_list))\n",
    "    title_list = []\n",
    "#     sentences_count_list = []\n",
    "    review_list = []\n",
    "    count = 0\n",
    "\n",
    "    for file in all_file_list:\n",
    "        (title, review) = transform(file)\n",
    "        if ',' in title:\n",
    "            if title[:-7].endswith(', The') is False:\n",
    "            \n",
    "                print(title)\n",
    "#             count += 1\n",
    "    \n",
    "#     print(count)\n",
    "        # print(org, sentences_count)\n",
    "#         title_list += [title]\n",
    "#         review_list += [review]\n",
    "\n",
    "#     return title_list\n",
    "    \n",
    "    \n",
    "    \n",
    "    \n",
    "\n",
    "# #         outputline_list += outputline\n",
    "\n",
    "# #     print(Counter(org_list))\n",
    "# #     print(Counter(sentences_count_list))\n",
    "#     # print(Counter(outputline_list))\n",
    "#     with open('output.txt', 'wb') as fp:\n",
    "#         pickle.dump(outputline_list, fp)\n",
    "\n",
    "#     thefile = open('output2.txt', 'w')\n",
    "#     for item in outputline_list:\n",
    "#         thefile.write(\"%s\\n\" % item)\n",
    "\n",
    "#     print('Well Done!')\n",
    "\n",
    "# # main()  # Invoke the main function\n",
    "\n"
   ]
  },
  {
   "cell_type": "code",
   "execution_count": null,
   "metadata": {
    "collapsed": true
   },
   "outputs": [],
   "source": [
    "f = open(\"test.csv\", \"w\")\n",
    "\n",
    "for i in xrange(len(title[list])):\n",
    "    f.write(\"{} {}\\n\".format(title_list[i], review_list[i]))\n",
    "\n",
    "f.close()"
   ]
  },
  {
   "cell_type": "code",
   "execution_count": null,
   "metadata": {
    "collapsed": true
   },
   "outputs": [],
   "source": []
  },
  {
   "cell_type": "code",
   "execution_count": null,
   "metadata": {
    "collapsed": true
   },
   "outputs": [],
   "source": []
  },
  {
   "cell_type": "code",
   "execution_count": null,
   "metadata": {
    "collapsed": true
   },
   "outputs": [],
   "source": []
  }
 ],
 "metadata": {
  "kernelspec": {
   "display_name": "Python 3",
   "language": "python",
   "name": "python3"
  },
  "language_info": {
   "codemirror_mode": {
    "name": "ipython",
    "version": 3
   },
   "file_extension": ".py",
   "mimetype": "text/x-python",
   "name": "python",
   "nbconvert_exporter": "python",
   "pygments_lexer": "ipython3",
   "version": "3.6.3"
  }
 },
 "nbformat": 4,
 "nbformat_minor": 2
}
