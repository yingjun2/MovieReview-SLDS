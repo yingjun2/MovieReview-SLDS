{
 "cells": [
  {
   "cell_type": "code",
   "execution_count": 4,
   "metadata": {},
   "outputs": [
    {
     "name": "stderr",
     "output_type": "stream",
     "text": [
      "C:\\Users\\guany\\Anaconda3\\lib\\site-packages\\nltk\\twitter\\__init__.py:20: UserWarning: The twython library has not been installed. Some functionality from the twitter package will not be available.\n",
      "  warnings.warn(\"The twython library has not been installed. \"\n"
     ]
    }
   ],
   "source": [
    "from nltk.classify import NaiveBayesClassifier\n",
    "from nltk.corpus import subjectivity\n",
    "from nltk.sentiment import SentimentAnalyzer\n",
    "from nltk.sentiment.util import *"
   ]
  },
  {
   "cell_type": "code",
   "execution_count": 5,
   "metadata": {
    "collapsed": true
   },
   "outputs": [],
   "source": [
    "from nltk.sentiment.vader import SentimentIntensityAnalyzer"
   ]
  },
  {
   "cell_type": "code",
   "execution_count": 7,
   "metadata": {
    "collapsed": true
   },
   "outputs": [],
   "source": [
    "sentences = [\"VADER is smart, handsome, and funny.\"]\n",
    "paragraph = \"It was one of the worst movies I've seen, despite good reviews. Unbelievably bad acting!! Poor direction. VERY poor production. \""
   ]
  },
  {
   "cell_type": "code",
   "execution_count": 8,
   "metadata": {
    "collapsed": true
   },
   "outputs": [],
   "source": [
    "from nltk import tokenize\n",
    "lines_list = tokenize.sent_tokenize(paragraph)\n",
    "sentences.extend(lines_list)"
   ]
  },
  {
   "cell_type": "code",
   "execution_count": null,
   "metadata": {
    "collapsed": true
   },
   "outputs": [],
   "source": []
  },
  {
   "cell_type": "code",
   "execution_count": 13,
   "metadata": {
    "collapsed": true
   },
   "outputs": [],
   "source": [
    "tricky_sentences = [\n",
    "...    \"Most automated sentiment analysis tools are shit.\",\n",
    "...    \"VADER sentiment analysis is the shit.\",\n",
    "...    \"Sentiment analysis has never been good.\",\n",
    "...    \"Sentiment analysis with VADER has never been this good.\",\n",
    "...    \"Warren Beatty has never been so entertaining.\",\n",
    "...    \"Yingjun Guan's name means handsome.\"]"
   ]
  },
  {
   "cell_type": "code",
   "execution_count": 14,
   "metadata": {},
   "outputs": [
    {
     "name": "stdout",
     "output_type": "stream",
     "text": [
      "VADER is smart, handsome, and funny.\n",
      "compound: 0.8316, neg: 0.0, neu: 0.254, pos: 0.746, \n",
      "It was one of the worst movies I've seen, despite good reviews.\n",
      "compound: -0.7584, neg: 0.394, neu: 0.606, pos: 0.0, \n",
      "Unbelievably bad acting!!\n",
      "compound: -0.6572, neg: 0.686, neu: 0.314, pos: 0.0, \n",
      "Poor direction.\n",
      "compound: -0.4767, neg: 0.756, neu: 0.244, pos: 0.0, \n",
      "VERY poor production.\n",
      "compound: -0.6281, neg: 0.674, neu: 0.326, pos: 0.0, \n",
      "Most automated sentiment analysis tools are shit.\n",
      "compound: -0.5574, neg: 0.375, neu: 0.625, pos: 0.0, \n",
      "VADER sentiment analysis is the shit.\n",
      "compound: 0.6124, neg: 0.0, neu: 0.556, pos: 0.444, \n",
      "Sentiment analysis has never been good.\n",
      "compound: -0.3412, neg: 0.325, neu: 0.675, pos: 0.0, \n",
      "Sentiment analysis with VADER has never been this good.\n",
      "compound: 0.5228, neg: 0.0, neu: 0.703, pos: 0.297, \n",
      "Warren Beatty has never been so entertaining.\n",
      "compound: 0.5777, neg: 0.0, neu: 0.616, pos: 0.384, \n",
      "Most automated sentiment analysis tools are shit.\n",
      "compound: -0.5574, neg: 0.375, neu: 0.625, pos: 0.0, \n",
      "VADER sentiment analysis is the shit.\n",
      "compound: 0.6124, neg: 0.0, neu: 0.556, pos: 0.444, \n",
      "Sentiment analysis has never been good.\n",
      "compound: -0.3412, neg: 0.325, neu: 0.675, pos: 0.0, \n",
      "Sentiment analysis with VADER has never been this good.\n",
      "compound: 0.5228, neg: 0.0, neu: 0.703, pos: 0.297, \n",
      "Warren Beatty has never been so entertaining.\n",
      "compound: 0.5777, neg: 0.0, neu: 0.616, pos: 0.384, \n",
      "Most automated sentiment analysis tools are shit.\n",
      "compound: -0.5574, neg: 0.375, neu: 0.625, pos: 0.0, \n",
      "VADER sentiment analysis is the shit.\n",
      "compound: 0.6124, neg: 0.0, neu: 0.556, pos: 0.444, \n",
      "Sentiment analysis has never been good.\n",
      "compound: -0.3412, neg: 0.325, neu: 0.675, pos: 0.0, \n",
      "Sentiment analysis with VADER has never been this good.\n",
      "compound: 0.5228, neg: 0.0, neu: 0.703, pos: 0.297, \n",
      "Warren Beatty has never been so entertaining.\n",
      "compound: 0.5777, neg: 0.0, neu: 0.616, pos: 0.384, \n",
      "Yingjun Guan's name means handsome.\n",
      "compound: 0.4939, neg: 0.0, neu: 0.556, pos: 0.444, \n"
     ]
    }
   ],
   "source": [
    "sentences.extend(tricky_sentences)\n",
    "sid = SentimentIntensityAnalyzer()\n",
    "for sentence in sentences:\n",
    "    print(sentence)\n",
    "    ss = sid.polarity_scores(sentence)\n",
    "    for k in sorted(ss):\n",
    "        print('{0}: {1}, '.format(k, ss[k]), end='')\n",
    "    print()"
   ]
  },
  {
   "cell_type": "code",
   "execution_count": 11,
   "metadata": {},
   "outputs": [
    {
     "name": "stdout",
     "output_type": "stream",
     "text": [
      "showing info https://raw.githubusercontent.com/nltk/nltk_data/gh-pages/index.xml\n"
     ]
    },
    {
     "data": {
      "text/plain": [
       "True"
      ]
     },
     "execution_count": 11,
     "metadata": {},
     "output_type": "execute_result"
    }
   ],
   "source": [
    "nltk.download()"
   ]
  },
  {
   "cell_type": "code",
   "execution_count": 2,
   "metadata": {
    "collapsed": true
   },
   "outputs": [],
   "source": [
    "import pandas as pd\n",
    "import numpy as np"
   ]
  },
  {
   "cell_type": "code",
   "execution_count": 18,
   "metadata": {
    "collapsed": true,
    "scrolled": true
   },
   "outputs": [],
   "source": [
    "df1 = pd.read_csv('step1.csv', encoding = 'Latin-1')"
   ]
  },
  {
   "cell_type": "code",
   "execution_count": null,
   "metadata": {
    "collapsed": true
   },
   "outputs": [],
   "source": [
    "sentences.extend(tricky_sentences)\n",
    "sid = SentimentIntensityAnalyzer()\n",
    "for sentence in sentences:\n",
    "    print(sentence)\n",
    "    ss = sid.polarity_scores(sentence)\n",
    "    for k in sorted(ss):\n",
    "        print('{0}: {1}, '.format(k, ss[k]), end='')\n",
    "    print()"
   ]
  },
  {
   "cell_type": "code",
   "execution_count": 6,
   "metadata": {},
   "outputs": [
    {
     "ename": "NameError",
     "evalue": "name 'df1' is not defined",
     "output_type": "error",
     "traceback": [
      "\u001b[1;31m---------------------------------------------------------------------------\u001b[0m",
      "\u001b[1;31mNameError\u001b[0m                                 Traceback (most recent call last)",
      "\u001b[1;32m<ipython-input-6-328befe9335d>\u001b[0m in \u001b[0;36m<module>\u001b[1;34m()\u001b[0m\n\u001b[0;32m      1\u001b[0m \u001b[0msid\u001b[0m \u001b[1;33m=\u001b[0m \u001b[0mSentimentIntensityAnalyzer\u001b[0m\u001b[1;33m(\u001b[0m\u001b[1;33m)\u001b[0m\u001b[1;33m\u001b[0m\u001b[0m\n\u001b[1;32m----> 2\u001b[1;33m \u001b[0mss\u001b[0m \u001b[1;33m=\u001b[0m \u001b[0msid\u001b[0m\u001b[1;33m.\u001b[0m\u001b[0mpolarity_scores\u001b[0m\u001b[1;33m(\u001b[0m\u001b[0mdf1\u001b[0m\u001b[1;33m.\u001b[0m\u001b[0mreview\u001b[0m\u001b[1;33m[\u001b[0m\u001b[1;36m0\u001b[0m\u001b[1;33m]\u001b[0m\u001b[1;33m)\u001b[0m\u001b[1;33m\u001b[0m\u001b[0m\n\u001b[0m",
      "\u001b[1;31mNameError\u001b[0m: name 'df1' is not defined"
     ]
    }
   ],
   "source": [
    "sid = SentimentIntensityAnalyzer()\n",
    "ss = sid.polarity_scores(df1.review[0])"
   ]
  },
  {
   "cell_type": "code",
   "execution_count": 25,
   "metadata": {},
   "outputs": [
    {
     "name": "stdout",
     "output_type": "stream",
     "text": [
      "{'neg': 0.09, 'neu': 0.82, 'pos': 0.09, 'compound': -0.7197}\n",
      "0.09\n"
     ]
    },
    {
     "data": {
      "text/plain": [
       "(None, None)"
      ]
     },
     "execution_count": 25,
     "metadata": {},
     "output_type": "execute_result"
    }
   ],
   "source": [
    "print(ss),print(ss['neg'])"
   ]
  },
  {
   "cell_type": "code",
   "execution_count": 33,
   "metadata": {},
   "outputs": [
    {
     "data": {
      "text/html": [
       "<div>\n",
       "<style scoped>\n",
       "    .dataframe tbody tr th:only-of-type {\n",
       "        vertical-align: middle;\n",
       "    }\n",
       "\n",
       "    .dataframe tbody tr th {\n",
       "        vertical-align: top;\n",
       "    }\n",
       "\n",
       "    .dataframe thead th {\n",
       "        text-align: right;\n",
       "    }\n",
       "</style>\n",
       "<table border=\"1\" class=\"dataframe\">\n",
       "  <thead>\n",
       "    <tr style=\"text-align: right;\">\n",
       "      <th></th>\n",
       "      <th>title</th>\n",
       "      <th>review</th>\n",
       "      <th>senti</th>\n",
       "    </tr>\n",
       "  </thead>\n",
       "  <tbody>\n",
       "    <tr>\n",
       "      <th>0</th>\n",
       "      <td>The Hitcher (1986)</td>\n",
       "      <td>[Editor's note: Sites running 2.10 netnews wil...</td>\n",
       "      <td></td>\n",
       "    </tr>\n",
       "    <tr>\n",
       "      <th>1</th>\n",
       "      <td>Beyond Therapy (1987)</td>\n",
       "      <td>Set in the offices of two psychoanalysts, and ...</td>\n",
       "      <td></td>\n",
       "    </tr>\n",
       "    <tr>\n",
       "      <th>2</th>\n",
       "      <td>Angel Heart (1987)</td>\n",
       "      <td>Starring: Mickey Rourke, Robert DeNiro, Lisa B...</td>\n",
       "      <td></td>\n",
       "    </tr>\n",
       "    <tr>\n",
       "      <th>3</th>\n",
       "      <td>Angel Heart (1987)</td>\n",
       "      <td>Harry Angel (played by Mickey Rourke) is a har...</td>\n",
       "      <td></td>\n",
       "    </tr>\n",
       "    <tr>\n",
       "      <th>4</th>\n",
       "      <td>Radio Days (1987)</td>\n",
       "      <td>I've been a little lax in getting out movie re...</td>\n",
       "      <td></td>\n",
       "    </tr>\n",
       "  </tbody>\n",
       "</table>\n",
       "</div>"
      ],
      "text/plain": [
       "                   title                                             review  \\\n",
       "0     The Hitcher (1986)  [Editor's note: Sites running 2.10 netnews wil...   \n",
       "1  Beyond Therapy (1987)  Set in the offices of two psychoanalysts, and ...   \n",
       "2     Angel Heart (1987)  Starring: Mickey Rourke, Robert DeNiro, Lisa B...   \n",
       "3     Angel Heart (1987)  Harry Angel (played by Mickey Rourke) is a har...   \n",
       "4      Radio Days (1987)  I've been a little lax in getting out movie re...   \n",
       "\n",
       "  senti  \n",
       "0        \n",
       "1        \n",
       "2        \n",
       "3        \n",
       "4        "
      ]
     },
     "execution_count": 33,
     "metadata": {},
     "output_type": "execute_result"
    }
   ],
   "source": [
    "df1.head()"
   ]
  },
  {
   "cell_type": "code",
   "execution_count": 31,
   "metadata": {
    "collapsed": true
   },
   "outputs": [],
   "source": [
    "df1['senti']=''"
   ]
  },
  {
   "cell_type": "code",
   "execution_count": 35,
   "metadata": {
    "collapsed": true
   },
   "outputs": [],
   "source": [
    "df1['senti']=df1['review'].apply(lambda x: sid.polarity_scores(str(x)))"
   ]
  },
  {
   "cell_type": "code",
   "execution_count": 36,
   "metadata": {},
   "outputs": [
    {
     "data": {
      "text/html": [
       "<div>\n",
       "<style scoped>\n",
       "    .dataframe tbody tr th:only-of-type {\n",
       "        vertical-align: middle;\n",
       "    }\n",
       "\n",
       "    .dataframe tbody tr th {\n",
       "        vertical-align: top;\n",
       "    }\n",
       "\n",
       "    .dataframe thead th {\n",
       "        text-align: right;\n",
       "    }\n",
       "</style>\n",
       "<table border=\"1\" class=\"dataframe\">\n",
       "  <thead>\n",
       "    <tr style=\"text-align: right;\">\n",
       "      <th></th>\n",
       "      <th>title</th>\n",
       "      <th>review</th>\n",
       "      <th>senti</th>\n",
       "    </tr>\n",
       "  </thead>\n",
       "  <tbody>\n",
       "    <tr>\n",
       "      <th>0</th>\n",
       "      <td>The Hitcher (1986)</td>\n",
       "      <td>[Editor's note: Sites running 2.10 netnews wil...</td>\n",
       "      <td>{'neg': 0.09, 'neu': 0.82, 'pos': 0.09, 'compo...</td>\n",
       "    </tr>\n",
       "    <tr>\n",
       "      <th>1</th>\n",
       "      <td>Beyond Therapy (1987)</td>\n",
       "      <td>Set in the offices of two psychoanalysts, and ...</td>\n",
       "      <td>{'neg': 0.095, 'neu': 0.846, 'pos': 0.059, 'co...</td>\n",
       "    </tr>\n",
       "    <tr>\n",
       "      <th>2</th>\n",
       "      <td>Angel Heart (1987)</td>\n",
       "      <td>Starring: Mickey Rourke, Robert DeNiro, Lisa B...</td>\n",
       "      <td>{'neg': 0.077, 'neu': 0.843, 'pos': 0.08, 'com...</td>\n",
       "    </tr>\n",
       "    <tr>\n",
       "      <th>3</th>\n",
       "      <td>Angel Heart (1987)</td>\n",
       "      <td>Harry Angel (played by Mickey Rourke) is a har...</td>\n",
       "      <td>{'neg': 0.052, 'neu': 0.849, 'pos': 0.099, 'co...</td>\n",
       "    </tr>\n",
       "    <tr>\n",
       "      <th>4</th>\n",
       "      <td>Radio Days (1987)</td>\n",
       "      <td>I've been a little lax in getting out movie re...</td>\n",
       "      <td>{'neg': 0.034, 'neu': 0.811, 'pos': 0.155, 'co...</td>\n",
       "    </tr>\n",
       "    <tr>\n",
       "      <th>5</th>\n",
       "      <td>A Nightmare on Elm Street 3: Dream Warriors (1...</td>\n",
       "      <td>Yes, the inimitable Freddy Kroeger is back in ...</td>\n",
       "      <td>{'neg': 0.08, 'neu': 0.765, 'pos': 0.154, 'com...</td>\n",
       "    </tr>\n",
       "    <tr>\n",
       "      <th>6</th>\n",
       "      <td>A Nightmare on Elm Street 3: Dream Warriors (1...</td>\n",
       "      <td>I really enjoyed the first of these three movi...</td>\n",
       "      <td>{'neg': 0.049, 'neu': 0.873, 'pos': 0.077, 'co...</td>\n",
       "    </tr>\n",
       "    <tr>\n",
       "      <th>7</th>\n",
       "      <td>Lethal Weapon (1987)</td>\n",
       "      <td>LETHAL WEAPON is a light-weight action thrille...</td>\n",
       "      <td>{'neg': 0.185, 'neu': 0.68, 'pos': 0.135, 'com...</td>\n",
       "    </tr>\n",
       "    <tr>\n",
       "      <th>8</th>\n",
       "      <td>Lethal Weapon (1987)</td>\n",
       "      <td>This is a police thriller in the tradition of ...</td>\n",
       "      <td>{'neg': 0.125, 'neu': 0.707, 'pos': 0.168, 'co...</td>\n",
       "    </tr>\n",
       "    <tr>\n",
       "      <th>9</th>\n",
       "      <td>The Bedroom Window (1987)</td>\n",
       "      <td>Capsule review:  In the best film thriller I h...</td>\n",
       "      <td>{'neg': 0.146, 'neu': 0.772, 'pos': 0.082, 'co...</td>\n",
       "    </tr>\n",
       "  </tbody>\n",
       "</table>\n",
       "</div>"
      ],
      "text/plain": [
       "                                               title  \\\n",
       "0                                 The Hitcher (1986)   \n",
       "1                              Beyond Therapy (1987)   \n",
       "2                                 Angel Heart (1987)   \n",
       "3                                 Angel Heart (1987)   \n",
       "4                                  Radio Days (1987)   \n",
       "5  A Nightmare on Elm Street 3: Dream Warriors (1...   \n",
       "6  A Nightmare on Elm Street 3: Dream Warriors (1...   \n",
       "7                               Lethal Weapon (1987)   \n",
       "8                               Lethal Weapon (1987)   \n",
       "9                          The Bedroom Window (1987)   \n",
       "\n",
       "                                              review  \\\n",
       "0  [Editor's note: Sites running 2.10 netnews wil...   \n",
       "1  Set in the offices of two psychoanalysts, and ...   \n",
       "2  Starring: Mickey Rourke, Robert DeNiro, Lisa B...   \n",
       "3  Harry Angel (played by Mickey Rourke) is a har...   \n",
       "4  I've been a little lax in getting out movie re...   \n",
       "5  Yes, the inimitable Freddy Kroeger is back in ...   \n",
       "6  I really enjoyed the first of these three movi...   \n",
       "7  LETHAL WEAPON is a light-weight action thrille...   \n",
       "8  This is a police thriller in the tradition of ...   \n",
       "9  Capsule review:  In the best film thriller I h...   \n",
       "\n",
       "                                               senti  \n",
       "0  {'neg': 0.09, 'neu': 0.82, 'pos': 0.09, 'compo...  \n",
       "1  {'neg': 0.095, 'neu': 0.846, 'pos': 0.059, 'co...  \n",
       "2  {'neg': 0.077, 'neu': 0.843, 'pos': 0.08, 'com...  \n",
       "3  {'neg': 0.052, 'neu': 0.849, 'pos': 0.099, 'co...  \n",
       "4  {'neg': 0.034, 'neu': 0.811, 'pos': 0.155, 'co...  \n",
       "5  {'neg': 0.08, 'neu': 0.765, 'pos': 0.154, 'com...  \n",
       "6  {'neg': 0.049, 'neu': 0.873, 'pos': 0.077, 'co...  \n",
       "7  {'neg': 0.185, 'neu': 0.68, 'pos': 0.135, 'com...  \n",
       "8  {'neg': 0.125, 'neu': 0.707, 'pos': 0.168, 'co...  \n",
       "9  {'neg': 0.146, 'neu': 0.772, 'pos': 0.082, 'co...  "
      ]
     },
     "execution_count": 36,
     "metadata": {},
     "output_type": "execute_result"
    }
   ],
   "source": [
    "df1.head(10)"
   ]
  },
  {
   "cell_type": "code",
   "execution_count": 37,
   "metadata": {
    "collapsed": true
   },
   "outputs": [],
   "source": [
    "df1.to_csv('step3.csv')"
   ]
  },
  {
   "cell_type": "code",
   "execution_count": null,
   "metadata": {
    "collapsed": true
   },
   "outputs": [],
   "source": []
  },
  {
   "cell_type": "code",
   "execution_count": 10,
   "metadata": {},
   "outputs": [
    {
     "ename": "TypeError",
     "evalue": "string indices must be integers",
     "output_type": "error",
     "traceback": [
      "\u001b[1;31m---------------------------------------------------------------------------\u001b[0m",
      "\u001b[1;31mTypeError\u001b[0m                                 Traceback (most recent call last)",
      "\u001b[1;32m<ipython-input-10-3167e86f7a63>\u001b[0m in \u001b[0;36m<module>\u001b[1;34m()\u001b[0m\n\u001b[1;32m----> 1\u001b[1;33m \u001b[0mdf1\u001b[0m\u001b[1;33m[\u001b[0m\u001b[1;34m'pos'\u001b[0m\u001b[1;33m]\u001b[0m\u001b[1;33m=\u001b[0m\u001b[0mdf1\u001b[0m\u001b[1;33m[\u001b[0m\u001b[1;34m'senti'\u001b[0m\u001b[1;33m]\u001b[0m\u001b[1;33m.\u001b[0m\u001b[0mapply\u001b[0m\u001b[1;33m(\u001b[0m\u001b[1;32mlambda\u001b[0m \u001b[0mx\u001b[0m\u001b[1;33m:\u001b[0m \u001b[0mx\u001b[0m\u001b[1;33m[\u001b[0m\u001b[1;34m'pos'\u001b[0m\u001b[1;33m]\u001b[0m\u001b[1;33m)\u001b[0m\u001b[1;33m\u001b[0m\u001b[0m\n\u001b[0m\u001b[0;32m      2\u001b[0m \u001b[0mdf1\u001b[0m\u001b[1;33m[\u001b[0m\u001b[1;34m'neu'\u001b[0m\u001b[1;33m]\u001b[0m\u001b[1;33m=\u001b[0m\u001b[0mdf1\u001b[0m\u001b[1;33m[\u001b[0m\u001b[1;34m'senti'\u001b[0m\u001b[1;33m]\u001b[0m\u001b[1;33m.\u001b[0m\u001b[0mapply\u001b[0m\u001b[1;33m(\u001b[0m\u001b[1;32mlambda\u001b[0m \u001b[0mx\u001b[0m\u001b[1;33m:\u001b[0m \u001b[0mx\u001b[0m\u001b[1;33m[\u001b[0m\u001b[1;34m'neu'\u001b[0m\u001b[1;33m]\u001b[0m\u001b[1;33m)\u001b[0m\u001b[1;33m\u001b[0m\u001b[0m\n\u001b[0;32m      3\u001b[0m \u001b[0mdf1\u001b[0m\u001b[1;33m[\u001b[0m\u001b[1;34m'neg'\u001b[0m\u001b[1;33m]\u001b[0m\u001b[1;33m=\u001b[0m\u001b[0mdf1\u001b[0m\u001b[1;33m[\u001b[0m\u001b[1;34m'senti'\u001b[0m\u001b[1;33m]\u001b[0m\u001b[1;33m.\u001b[0m\u001b[0mapply\u001b[0m\u001b[1;33m(\u001b[0m\u001b[1;32mlambda\u001b[0m \u001b[0mx\u001b[0m\u001b[1;33m:\u001b[0m \u001b[0mx\u001b[0m\u001b[1;33m[\u001b[0m\u001b[1;34m'neg'\u001b[0m\u001b[1;33m]\u001b[0m\u001b[1;33m)\u001b[0m\u001b[1;33m\u001b[0m\u001b[0m\n\u001b[0;32m      4\u001b[0m \u001b[0mdf1\u001b[0m\u001b[1;33m[\u001b[0m\u001b[1;34m'compound'\u001b[0m\u001b[1;33m]\u001b[0m\u001b[1;33m=\u001b[0m\u001b[0mdf1\u001b[0m\u001b[1;33m[\u001b[0m\u001b[1;34m'senti'\u001b[0m\u001b[1;33m]\u001b[0m\u001b[1;33m.\u001b[0m\u001b[0mapply\u001b[0m\u001b[1;33m(\u001b[0m\u001b[1;32mlambda\u001b[0m \u001b[0mx\u001b[0m\u001b[1;33m:\u001b[0m \u001b[0mx\u001b[0m\u001b[1;33m[\u001b[0m\u001b[1;34m'compound'\u001b[0m\u001b[1;33m]\u001b[0m\u001b[1;33m)\u001b[0m\u001b[1;33m\u001b[0m\u001b[0m\n",
      "\u001b[1;32m~\\Anaconda3\\lib\\site-packages\\pandas\\core\\series.py\u001b[0m in \u001b[0;36mapply\u001b[1;34m(self, func, convert_dtype, args, **kwds)\u001b[0m\n\u001b[0;32m   2549\u001b[0m             \u001b[1;32melse\u001b[0m\u001b[1;33m:\u001b[0m\u001b[1;33m\u001b[0m\u001b[0m\n\u001b[0;32m   2550\u001b[0m                 \u001b[0mvalues\u001b[0m \u001b[1;33m=\u001b[0m \u001b[0mself\u001b[0m\u001b[1;33m.\u001b[0m\u001b[0masobject\u001b[0m\u001b[1;33m\u001b[0m\u001b[0m\n\u001b[1;32m-> 2551\u001b[1;33m                 \u001b[0mmapped\u001b[0m \u001b[1;33m=\u001b[0m \u001b[0mlib\u001b[0m\u001b[1;33m.\u001b[0m\u001b[0mmap_infer\u001b[0m\u001b[1;33m(\u001b[0m\u001b[0mvalues\u001b[0m\u001b[1;33m,\u001b[0m \u001b[0mf\u001b[0m\u001b[1;33m,\u001b[0m \u001b[0mconvert\u001b[0m\u001b[1;33m=\u001b[0m\u001b[0mconvert_dtype\u001b[0m\u001b[1;33m)\u001b[0m\u001b[1;33m\u001b[0m\u001b[0m\n\u001b[0m\u001b[0;32m   2552\u001b[0m \u001b[1;33m\u001b[0m\u001b[0m\n\u001b[0;32m   2553\u001b[0m         \u001b[1;32mif\u001b[0m \u001b[0mlen\u001b[0m\u001b[1;33m(\u001b[0m\u001b[0mmapped\u001b[0m\u001b[1;33m)\u001b[0m \u001b[1;32mand\u001b[0m \u001b[0misinstance\u001b[0m\u001b[1;33m(\u001b[0m\u001b[0mmapped\u001b[0m\u001b[1;33m[\u001b[0m\u001b[1;36m0\u001b[0m\u001b[1;33m]\u001b[0m\u001b[1;33m,\u001b[0m \u001b[0mSeries\u001b[0m\u001b[1;33m)\u001b[0m\u001b[1;33m:\u001b[0m\u001b[1;33m\u001b[0m\u001b[0m\n",
      "\u001b[1;32mpandas/_libs/src/inference.pyx\u001b[0m in \u001b[0;36mpandas._libs.lib.map_infer\u001b[1;34m()\u001b[0m\n",
      "\u001b[1;32m<ipython-input-10-3167e86f7a63>\u001b[0m in \u001b[0;36m<lambda>\u001b[1;34m(x)\u001b[0m\n\u001b[1;32m----> 1\u001b[1;33m \u001b[0mdf1\u001b[0m\u001b[1;33m[\u001b[0m\u001b[1;34m'pos'\u001b[0m\u001b[1;33m]\u001b[0m\u001b[1;33m=\u001b[0m\u001b[0mdf1\u001b[0m\u001b[1;33m[\u001b[0m\u001b[1;34m'senti'\u001b[0m\u001b[1;33m]\u001b[0m\u001b[1;33m.\u001b[0m\u001b[0mapply\u001b[0m\u001b[1;33m(\u001b[0m\u001b[1;32mlambda\u001b[0m \u001b[0mx\u001b[0m\u001b[1;33m:\u001b[0m \u001b[0mx\u001b[0m\u001b[1;33m[\u001b[0m\u001b[1;34m'pos'\u001b[0m\u001b[1;33m]\u001b[0m\u001b[1;33m)\u001b[0m\u001b[1;33m\u001b[0m\u001b[0m\n\u001b[0m\u001b[0;32m      2\u001b[0m \u001b[0mdf1\u001b[0m\u001b[1;33m[\u001b[0m\u001b[1;34m'neu'\u001b[0m\u001b[1;33m]\u001b[0m\u001b[1;33m=\u001b[0m\u001b[0mdf1\u001b[0m\u001b[1;33m[\u001b[0m\u001b[1;34m'senti'\u001b[0m\u001b[1;33m]\u001b[0m\u001b[1;33m.\u001b[0m\u001b[0mapply\u001b[0m\u001b[1;33m(\u001b[0m\u001b[1;32mlambda\u001b[0m \u001b[0mx\u001b[0m\u001b[1;33m:\u001b[0m \u001b[0mx\u001b[0m\u001b[1;33m[\u001b[0m\u001b[1;34m'neu'\u001b[0m\u001b[1;33m]\u001b[0m\u001b[1;33m)\u001b[0m\u001b[1;33m\u001b[0m\u001b[0m\n\u001b[0;32m      3\u001b[0m \u001b[0mdf1\u001b[0m\u001b[1;33m[\u001b[0m\u001b[1;34m'neg'\u001b[0m\u001b[1;33m]\u001b[0m\u001b[1;33m=\u001b[0m\u001b[0mdf1\u001b[0m\u001b[1;33m[\u001b[0m\u001b[1;34m'senti'\u001b[0m\u001b[1;33m]\u001b[0m\u001b[1;33m.\u001b[0m\u001b[0mapply\u001b[0m\u001b[1;33m(\u001b[0m\u001b[1;32mlambda\u001b[0m \u001b[0mx\u001b[0m\u001b[1;33m:\u001b[0m \u001b[0mx\u001b[0m\u001b[1;33m[\u001b[0m\u001b[1;34m'neg'\u001b[0m\u001b[1;33m]\u001b[0m\u001b[1;33m)\u001b[0m\u001b[1;33m\u001b[0m\u001b[0m\n\u001b[0;32m      4\u001b[0m \u001b[0mdf1\u001b[0m\u001b[1;33m[\u001b[0m\u001b[1;34m'compound'\u001b[0m\u001b[1;33m]\u001b[0m\u001b[1;33m=\u001b[0m\u001b[0mdf1\u001b[0m\u001b[1;33m[\u001b[0m\u001b[1;34m'senti'\u001b[0m\u001b[1;33m]\u001b[0m\u001b[1;33m.\u001b[0m\u001b[0mapply\u001b[0m\u001b[1;33m(\u001b[0m\u001b[1;32mlambda\u001b[0m \u001b[0mx\u001b[0m\u001b[1;33m:\u001b[0m \u001b[0mx\u001b[0m\u001b[1;33m[\u001b[0m\u001b[1;34m'compound'\u001b[0m\u001b[1;33m]\u001b[0m\u001b[1;33m)\u001b[0m\u001b[1;33m\u001b[0m\u001b[0m\n",
      "\u001b[1;31mTypeError\u001b[0m: string indices must be integers"
     ]
    }
   ],
   "source": [
    "df1['pos']=df1['senti'].apply(lambda x: x['pos'])\n",
    "df1['neu']=df1['senti'].apply(lambda x: x['neu'])\n",
    "df1['neg']=df1['senti'].apply(lambda x: x['neg'])\n",
    "df1['compound']=df1['senti'].apply(lambda x: x['compound'])"
   ]
  },
  {
   "cell_type": "code",
   "execution_count": 40,
   "metadata": {},
   "outputs": [
    {
     "data": {
      "text/html": [
       "<div>\n",
       "<style scoped>\n",
       "    .dataframe tbody tr th:only-of-type {\n",
       "        vertical-align: middle;\n",
       "    }\n",
       "\n",
       "    .dataframe tbody tr th {\n",
       "        vertical-align: top;\n",
       "    }\n",
       "\n",
       "    .dataframe thead th {\n",
       "        text-align: right;\n",
       "    }\n",
       "</style>\n",
       "<table border=\"1\" class=\"dataframe\">\n",
       "  <thead>\n",
       "    <tr style=\"text-align: right;\">\n",
       "      <th></th>\n",
       "      <th>title</th>\n",
       "      <th>review</th>\n",
       "      <th>senti</th>\n",
       "      <th>pos</th>\n",
       "      <th>neu</th>\n",
       "      <th>neg</th>\n",
       "      <th>compound</th>\n",
       "    </tr>\n",
       "  </thead>\n",
       "  <tbody>\n",
       "    <tr>\n",
       "      <th>0</th>\n",
       "      <td>The Hitcher (1986)</td>\n",
       "      <td>[Editor's note: Sites running 2.10 netnews wil...</td>\n",
       "      <td>{'neg': 0.09, 'neu': 0.82, 'pos': 0.09, 'compo...</td>\n",
       "      <td>0.090</td>\n",
       "      <td>0.820</td>\n",
       "      <td>0.090</td>\n",
       "      <td>-0.7197</td>\n",
       "    </tr>\n",
       "    <tr>\n",
       "      <th>1</th>\n",
       "      <td>Beyond Therapy (1987)</td>\n",
       "      <td>Set in the offices of two psychoanalysts, and ...</td>\n",
       "      <td>{'neg': 0.095, 'neu': 0.846, 'pos': 0.059, 'co...</td>\n",
       "      <td>0.059</td>\n",
       "      <td>0.846</td>\n",
       "      <td>0.095</td>\n",
       "      <td>-0.7328</td>\n",
       "    </tr>\n",
       "    <tr>\n",
       "      <th>2</th>\n",
       "      <td>Angel Heart (1987)</td>\n",
       "      <td>Starring: Mickey Rourke, Robert DeNiro, Lisa B...</td>\n",
       "      <td>{'neg': 0.077, 'neu': 0.843, 'pos': 0.08, 'com...</td>\n",
       "      <td>0.080</td>\n",
       "      <td>0.843</td>\n",
       "      <td>0.077</td>\n",
       "      <td>-0.3820</td>\n",
       "    </tr>\n",
       "    <tr>\n",
       "      <th>3</th>\n",
       "      <td>Angel Heart (1987)</td>\n",
       "      <td>Harry Angel (played by Mickey Rourke) is a har...</td>\n",
       "      <td>{'neg': 0.052, 'neu': 0.849, 'pos': 0.099, 'co...</td>\n",
       "      <td>0.099</td>\n",
       "      <td>0.849</td>\n",
       "      <td>0.052</td>\n",
       "      <td>0.9722</td>\n",
       "    </tr>\n",
       "    <tr>\n",
       "      <th>4</th>\n",
       "      <td>Radio Days (1987)</td>\n",
       "      <td>I've been a little lax in getting out movie re...</td>\n",
       "      <td>{'neg': 0.034, 'neu': 0.811, 'pos': 0.155, 'co...</td>\n",
       "      <td>0.155</td>\n",
       "      <td>0.811</td>\n",
       "      <td>0.034</td>\n",
       "      <td>0.9989</td>\n",
       "    </tr>\n",
       "  </tbody>\n",
       "</table>\n",
       "</div>"
      ],
      "text/plain": [
       "                   title                                             review  \\\n",
       "0     The Hitcher (1986)  [Editor's note: Sites running 2.10 netnews wil...   \n",
       "1  Beyond Therapy (1987)  Set in the offices of two psychoanalysts, and ...   \n",
       "2     Angel Heart (1987)  Starring: Mickey Rourke, Robert DeNiro, Lisa B...   \n",
       "3     Angel Heart (1987)  Harry Angel (played by Mickey Rourke) is a har...   \n",
       "4      Radio Days (1987)  I've been a little lax in getting out movie re...   \n",
       "\n",
       "                                               senti    pos    neu    neg  \\\n",
       "0  {'neg': 0.09, 'neu': 0.82, 'pos': 0.09, 'compo...  0.090  0.820  0.090   \n",
       "1  {'neg': 0.095, 'neu': 0.846, 'pos': 0.059, 'co...  0.059  0.846  0.095   \n",
       "2  {'neg': 0.077, 'neu': 0.843, 'pos': 0.08, 'com...  0.080  0.843  0.077   \n",
       "3  {'neg': 0.052, 'neu': 0.849, 'pos': 0.099, 'co...  0.099  0.849  0.052   \n",
       "4  {'neg': 0.034, 'neu': 0.811, 'pos': 0.155, 'co...  0.155  0.811  0.034   \n",
       "\n",
       "   compound  \n",
       "0   -0.7197  \n",
       "1   -0.7328  \n",
       "2   -0.3820  \n",
       "3    0.9722  \n",
       "4    0.9989  "
      ]
     },
     "execution_count": 40,
     "metadata": {},
     "output_type": "execute_result"
    }
   ],
   "source": [
    "df1.head()"
   ]
  },
  {
   "cell_type": "code",
   "execution_count": 43,
   "metadata": {},
   "outputs": [
    {
     "data": {
      "text/html": [
       "<div>\n",
       "<style scoped>\n",
       "    .dataframe tbody tr th:only-of-type {\n",
       "        vertical-align: middle;\n",
       "    }\n",
       "\n",
       "    .dataframe tbody tr th {\n",
       "        vertical-align: top;\n",
       "    }\n",
       "\n",
       "    .dataframe thead th {\n",
       "        text-align: right;\n",
       "    }\n",
       "</style>\n",
       "<table border=\"1\" class=\"dataframe\">\n",
       "  <thead>\n",
       "    <tr style=\"text-align: right;\">\n",
       "      <th></th>\n",
       "      <th>pos</th>\n",
       "      <th>neu</th>\n",
       "      <th>neg</th>\n",
       "      <th>compound</th>\n",
       "    </tr>\n",
       "  </thead>\n",
       "  <tbody>\n",
       "    <tr>\n",
       "      <th>count</th>\n",
       "      <td>27885.000000</td>\n",
       "      <td>27885.000000</td>\n",
       "      <td>27885.000000</td>\n",
       "      <td>27885.000000</td>\n",
       "    </tr>\n",
       "    <tr>\n",
       "      <th>mean</th>\n",
       "      <td>0.128527</td>\n",
       "      <td>0.783500</td>\n",
       "      <td>0.087971</td>\n",
       "      <td>0.484120</td>\n",
       "    </tr>\n",
       "    <tr>\n",
       "      <th>std</th>\n",
       "      <td>0.039830</td>\n",
       "      <td>0.047764</td>\n",
       "      <td>0.036402</td>\n",
       "      <td>0.794875</td>\n",
       "    </tr>\n",
       "    <tr>\n",
       "      <th>min</th>\n",
       "      <td>0.000000</td>\n",
       "      <td>0.528000</td>\n",
       "      <td>0.000000</td>\n",
       "      <td>-0.999900</td>\n",
       "    </tr>\n",
       "    <tr>\n",
       "      <th>25%</th>\n",
       "      <td>0.101000</td>\n",
       "      <td>0.752000</td>\n",
       "      <td>0.062000</td>\n",
       "      <td>-0.066500</td>\n",
       "    </tr>\n",
       "    <tr>\n",
       "      <th>50%</th>\n",
       "      <td>0.126000</td>\n",
       "      <td>0.784000</td>\n",
       "      <td>0.084000</td>\n",
       "      <td>0.975200</td>\n",
       "    </tr>\n",
       "    <tr>\n",
       "      <th>75%</th>\n",
       "      <td>0.153000</td>\n",
       "      <td>0.816000</td>\n",
       "      <td>0.110000</td>\n",
       "      <td>0.994900</td>\n",
       "    </tr>\n",
       "    <tr>\n",
       "      <th>max</th>\n",
       "      <td>0.345000</td>\n",
       "      <td>1.000000</td>\n",
       "      <td>0.341000</td>\n",
       "      <td>1.000000</td>\n",
       "    </tr>\n",
       "  </tbody>\n",
       "</table>\n",
       "</div>"
      ],
      "text/plain": [
       "                pos           neu           neg      compound\n",
       "count  27885.000000  27885.000000  27885.000000  27885.000000\n",
       "mean       0.128527      0.783500      0.087971      0.484120\n",
       "std        0.039830      0.047764      0.036402      0.794875\n",
       "min        0.000000      0.528000      0.000000     -0.999900\n",
       "25%        0.101000      0.752000      0.062000     -0.066500\n",
       "50%        0.126000      0.784000      0.084000      0.975200\n",
       "75%        0.153000      0.816000      0.110000      0.994900\n",
       "max        0.345000      1.000000      0.341000      1.000000"
      ]
     },
     "execution_count": 43,
     "metadata": {},
     "output_type": "execute_result"
    }
   ],
   "source": [
    "df1.describe()"
   ]
  },
  {
   "cell_type": "code",
   "execution_count": 65,
   "metadata": {
    "scrolled": true
   },
   "outputs": [
    {
     "name": "stdout",
     "output_type": "stream",
     "text": [
      "Perhaps somewhere in the annals of forgotten intentions, director Oliver Stone might have said to some hack reporter that he had always had in mind a trilogy of movies about the Vietnam War.  The first, PLATOON, about the actual war itself from a G.I.'s perspective; the second, BORN ON THE 4TH OF JULY, about a war hero who returns to America to discover he's more despised than hailed; and a third--WHEAVEN & EARTH bring this up because one of Stone's problems has always been his inability to one-on-one sell his own product because he's constantly shifting positions: he seems to say one thing one day about his movies, and yet in another interview on another day say something else entirely, often contradicting himself.  This was most obvious and disturbing when conservatives jumped all over him about JFK; Stone wouldn't admit that, as a refuter, he rigged his grand mal of invective against the Warren Report.  Instead he fulminated against his critics for perpetuating the grander lie.  Fair minded viewers quickly perceived that JFK was a composite of theories, not really meant to be at all definitive but exploratory--spasms of conjecture to tantalize and reel us with possibilities and at the same time admonish us for acquiescing to the volumes of purported facts. JFK was dazzling, work-me-over movie making in the worst traditions of yellow press muckraking: when we left the theatre, we conjured up the worst scenarios for just about everybody, and this kind of cynicism was and remains the movie's clarion attraction.  With an eye on the box office, Stone elicited his detractors' often meaningless barrages--I'm thinking of some of George Will's pomposity in defending status quo--and never truer than when, on 60 Minutes, Andy Rooney made an ass of himself (and unwittingly confirmed Stone's legitimate deploring of a lazy press before the National Press Club in Washington) by trying to joke that Stone was this era's Orson Welles looking for his Rosebud. JFK is not Stone's CITIZEN KANE.  Far from it.  Had the movies' preeminent contrarian shown class instead of boxing himself in, he might have said that he made his own and much more exciting, horrifying and brutal MANCHURIAN CANDIDATE. It is of course the quicksand that Stone, equal parts product and producer of media splurge, can't resist: he likes to go the edges of the pits he creates, and even if he tumbles into some of them, as he did as writer for the exploiting MIDNIGHT EXPRESS and as director for BORN ON THE 4TH OF JULY, somehow he rescues himself by sheer gall and temerity, which, as Americans, we often cheer more than we do those who show respect for history or nations other than our own.  These are movies that Stone owes us an apology for; these two false, pitched melodramas, reeking with fabricated scenes and utterances and ultra-bad casting (Tom Cruise as a paraplegic vet?), received the kind of attention that later embarrasses the rational-minded--we realize that all the hysteria comes from vengeful emotionality, in order to subvert and controvert facts and humiliations.  There's not a god damn thing that's admirable about Billy Hayes's story in MIDNIGHT EXPRESS; and there's only pitiful contempt for those who continue to fight the Vietnam War until they somehow win what they deserved to lose. Stone's frenzied method of reportage is undeniably what makes him suspicious to many of us--he takes \"true stories\" and propagandizes not the factual incidents themselves but the circumstances surrounding them.  It's defensible with JFK because Stone was using thirty years worth of everyone else's conspiracies and suppositions.  It's indefensible regarding the overwrought BORN ON THE 4TH OF JULY: as pointed out by others, reel-life Ron Kovic evaded the major question: \"Why did the government tell lies about what the Vietnam War was about?\"  Because PLATOON was based, more or less, on Stone's own experiences during the Vietnam War, questioning his veracity would be dangerous, and I didn't when I first saw the movie, and, despite my strong misgivings about HEAVEN & EARTH, I don't now.  PLATOON had the feel of truth, of real experience in it, and I think the reactions of our nation's Vietnam Vets was--and remains--the more significant testimonial.  They responded to it as if it were a catharsis; they left theatres shaken, or crying, or sobbing, their pain of waste & dissolution given a salve.  When Jane Fonda attacked THE DEER HUNTER as racist, she was once more pounced on as a traitor, but this time she was absolutely right: Michael Cimino made a political tract that only temporarily gave us the excuse we sought to feel smug and superior to a tiny country that, short of nuking, we attempted to bomb into oblivion and in the process helped kill more than two million of its citizens and injured another three million.  This is why few can watch that movie anymore--it being so egregiously slanted to protect ourselves from our own crimes.  And this is most likely why PLATOON had such an incredible impact only nine years later: despite all the amateurish literary flourishes spoken by Charlie Sheen, despite the appallingly effective misuse of Barber's \"Adagio for Strings\" during some of the movie's most horrific moments, PLATOON was an \"everyman's\" epiphany of our government's nearly intractable dumbheadedness.  And it did something more:  it intimated how frequently our military's hierarchy left our men in the lurch, to defend themselves and die as their commanders, in the relative safety of Saigon or Washington, were lying to an American press.  One of the quietly satisfying aspects about the success of PLATOON is that while some movie critics, National Guard right-wingers and draft-dodgers were proclaiming that they \"didn't like it,\" the fact is, this is categorically not a movie to like or dislike, to love or hate; based on one's own experiences, you're either moved by what it's saying and suggesting or you're not.  I knew this movie was and would stay on the right track when, during its opening, we watched the new G.I.s getting off their transports as others--in body bags--were being loaded onto those transports.  I've still got in my memory banks many images of the war, but none more evoking of stronger emotions than this.  I'm a Vietnam-era vet who unaccountably spent his term of service in the Baroque whimsy of Wurzburg, Germany and whose cushy job it was to administratively process servicemen to and from other military posts and during interviews with those who had been to Vietnam, the reactions were almost always the same:  the initial shock and sudden realization of possible death when they saw the rows of corpses.  Those images were never discussed in basic and individual training, those images hadn't yet appeared in Stars & Stripes, they were rarely spoken of on Armed Forces Radio, but they were the subject of endless conversations in the barracks, in the mess halls.  We didn't know what post traumatic stress syndrome was in those days--it probably hadn't even been coined yet--but we could tell who served in Vietnam when we heard the screams from hellish nightmares during the night. HEAVEN & EARTH, based on two non-fiction books that are accounts of Vietnamese surviving their country's war years, opens with paradisical shots of agricultural lands and jutting mountains with low clouds passing through them--the kind of setting one might imagine would be the end result of the Genesis Device in STAR TREK: THE WRATH OF KHAN.  The beauty of it all is Stone saying, \"This is what it was like before we got there.\" Soon after, when the American helicopters and napalm arrive, we get the burnt out fields and villages, with Stone lecturing, \"This is what it was like after we got there.\"  Stone has said repeatedly that HEAVEN & EARTH is a glimpse of what the Vietnamese went through during the time the French and most specifically the Americans descended upon them.  But HEAVEN & EARTH is not about the Vietnamese proles--it's about an American movie maker's view of what a Vietnamese woman, lucky enough to escape, endures through Americanization.  This is not a minor quibble, it's a major beef.  This is no more a movie about how the Vietnamese people lived through the inferno mostly created by other nations--China, France, Japan, France again, America, and China once more--than BORN ON THE 4TH OF JULY is about a disillusioned war hero returning to a jaded homeland.  HEAVEN & EARTH is not overtly fraudulent--there probably isn't a major scene that didn't happen to either the principals or others--but it feels very fraudulent.  Except for a few terrorist threats by (we assume) the Viet Cong, who warn the peasant farmers against betraying the motherland, there's no believability that these Vietnamese have any defining politics or even pride in nationality.  Worse, the bits and pieces of their struggles to maintain a crazy kind of normalcy in daily living amidst the incursions are, if not rehash from all the other Vietnam War movies, then cursory.  Were there no schools for the kids? Did no teens or young adults date and fall in love? There's a flimsy, slow-motion reach towards Conrad's HEART OF DARKNESS a la APOCALYPSE NOW to remind us of war's inherent insanity but eventually the movie tires itself out and becomes a rather mild, less affecting KILLING FIELDS--we even get Haing S.  Nor as a loving father searching for his pregnant daughter, reminiscent of Sam Waterston's pursuit of Nor himself. During the opening, we get a very truncated narration by the movie's heroine--played by newcomer Hiep Thi Le--that attempts to establish perfunctory facts.  The facts are misleading: while I couldn't swear to what Stone has her saying exactly, because it's soft-spoken enough to miss parts, there is a major reference to the defeat of the French (at Dien Bien Phu) in 1954, which, by Stone's account, precipitated American intervention.  Not quite right: though the French did depart in 1954, and though there was a brief diplomatic solution known as the Geneva Accord which separated Vietnam into North and South, providing a lull in major fighting until 1959 when Ho Chi Minh stepped up gorilla warfare to further weaken the South's already precarious government, and though the U.S. was sending \"advisors\" steadily until 1965 when President Johnson ordered large numbers of troops to intervene to save the South, the American government, under Truman, was already and very directly involved in the re-colonization of Indochina by France in 1946. While FDR adamantly and Truman less so opposed France's return there, because it defied the American principle of independence for all nations, and though both presidents were suspicious of France in that it had cruelly exploited Vietnam in the past and despite France's promise to grant autonomy to the Vietnamese probably wouldn't (and didn't), the American position became one of acquiescence to France, most likely because Charles de Gaulle, humiliated by the quick, humiliating subjugation of his people to the Nazis, blackmailed Truman:  If not permitted its undeserved spoils of the war, then France, already haughty with demands in the rebuilding of Europe, would resist cooperation in that reconstruction.  France's return to Vietnam--facilitated by over 2 billion American 1940-50 dollars worth of transport ships and materials--enraged Ho Chi Minh rather understandably: America, a nation he had admired enormously, was betraying its principles, especially since Ho believed that, with the American pledge to grant independence to the Philippines, America indeed \"was for the free popular governments all over the world and that it opposed colonialism in all its forms.\" (Ho had been appealing for his nation's independence since 1919, when he went to the Versailles Peace Conference to plead his case, but he had been turned away without so much as a single hearing.) By late 1945, Ho had sent at least eight appeals to Truman and the American Secretary of State, but they were ignored.  War between the French and the Vietnamese started in late 1946 and would continue until the French were surrounded and nearly annihilated at Dien Bien Phu.  The ominous but ignored cost to the French: over 50,000 lives, 100,000 injuries.  Part of Ho's brief triumph when the French departed was the knowledge that he also defeated America the betrayer.  Though Ho died before his countrymen would defeat America a second time, there must be among Vietnamese an additional yet savory satisfaction in the victory: that we did not learn from history, even failing to learn from yesterday's failed military tactics.  In a communique written in 1945 to de Gaulle by Bao Dai, the last Emperor of Indochina, this was prophesied: \"Even if you come to re-establish a French administration here, it will no longer be obeyed: each village will be a nest of resistance, each former collaborator an enemy, and your officials and colonists will themselves ask to leave this atmosphere which they will unable to breathe.\" Technically, none of this is what the movie is all about, but remember, it's Stone who's telling us that he's made a people-of-Vietnam movie from their perspective, which, reiterating, he most certainly is not.  What HEAVEN & EARTH seems to be about is karma, and rather tragi-yellow karma to boot: it suggests that the sum and consequences of the heroine's life determined her fate--that she might have deserved to be raped, that she was destined to meet and marry psycho Sad Sack Tommy Lee Jones, that despite her capitalist success in America she would return home to hear her brother scold her and America for its continual punishment of her motherland that never deserved to be the pawn it became in global power strategies.  As such, Hiep Thi Le, a pre-med student in California, is surprisingly competent.  Like the abused, neglected heroines proverbially carrying coals to New Castle in American period-piece literature, Hiep Thi Le is required to be weighted down and become the embodiment of the rice-fed Vietnamese constitution; despite the upholstery-like coifs that make her look stereotypically China Doll trampy, she sticks to you. (She's also got the movie's only honest bit: when she jumps off a helicopter, with child in tow, her purse falls to her knees, then feet.  She's also in a scene that puts the fact checkers on the spot: there's a banner advertising \"double coupons\" at the California grocery chain Ralphs.) The last time I saw Joan Chen, who plays Hiep's mother, was in Bertolucci's snoozer THE LAST EMPEROR.  So fancily pictorial she seemed a poster; there was more drama in the lobby stills of her than in the movie itself.  And there was something unconvincing about her makeup: she didn't age \"naturally,\" she looked comically fakey.  This doesn't happen to her here: while it takes time to get passed her mouth full of rotten dentistry (or a lack of it, I could never tell for sure), she's stunningly cosmeticized, you really believe what you see.  Her voice and face now have a nobility you can't stop absorbing--she's a hybrid of Glenn Close and Jessica Lange, with a slight amount of Olivia Cole as a finishing touch.  In her last scenes, you realize it is her story that you want to see, that she is the salt of Vietnam's earth Stone has tried to turn Hiep Thi Le into.  This odd reversal happened in THE LAST EMPEROR: at the beginning, when the dying empress, sounding like Meryl Streep doing her OUT OF AFRICA routine, informed the young emperor he'll inherit the throne, we're mesmerized: she's so debauched, evil-eyed and practically levitating in the splendiferous surroundings of the imperial palace--not unlike Jabba the Hut in THE RETURN OF THE JEDI--that when the movie concluded, I flashed back to her, regretting that I didn't see THE LAST EMPRESS.  When Hiep delivers the earth mother bromides--the kind of platitudes all mothers want to hear, and, in fact, HEAVEN & EARTH is dedicated to Stone's own mother--it's Joan Chen who should be speaking. Someday a director will pick up THE TUNNELS OF CU CHI by Tom Mangold and John Penycate and realize it's the book that America needs as a movie.  (Anyone who's read it never forgets the snake.) With Mel Gibson, whose frame and Stoogy risk-taking are perfect for traversing those tunnels which terrorized Americans and are, in any variety of ways, the real metaphor of Vietnam.  Without them, without the tenacity involved in building and maintaining them, it might have been possible for the American military killing experts to defeat the spirit of the Vietnamese.  The only movie that has come close to showing the terror of those tunnels--but too briefly--is Brian De Palma's over-praised and rightly rebuffed CASUALTIES OF WAR.  Though CASUALTIES OF WAR is based on fact, it loses its indictable punch in that rape and the death of the raped aren't exclusive to the horror of war; movies using rape to pontificate become cliches because, in a measure of our desensitized times, rape is no longer as horrible as it is anticipatory symptom, and it never explains the political machinations that result in war. According to a blurb Pauline Kael gave to De Palma to use in the ads--a blurb that did not show up in her lengthy review--CASUALTIES OF WAR is the \"greatest of the Vietnam War movies.\"  Similar to Larry King's fourteen word blurb about HEAVEN & EARTH, hyperbolic nonsense has a way of biting back, like bad karma.  The ultimate Vietnam War movie would be the one that shows us that the enemy who never had to be knew us and our weaknesses better than we did.  The more self-incriminating anti-war movie will be the one that reveals American immaturity--exposing our national inability to accept the harsher reality of having lost a war we never had any business getting involved in.  Vietnam vets have a right to rage against Robert McNamara and his IN RETROSPECT.  One of the principal architects of youth in Asia, McNamara acknowledges the war's meaninglessness, but, having learned from the right wing crybabies, he blames everyone else.\n"
     ]
    }
   ],
   "source": [
    "print(df1.review[df1['compound'] == -0.999900].tolist()[2])"
   ]
  },
  {
   "cell_type": "code",
   "execution_count": 63,
   "metadata": {
    "scrolled": true
   },
   "outputs": [
    {
     "name": "stdout",
     "output_type": "stream",
     "text": [
      "For the first time in a long time, I was literally blown away by a movie. I don't actually see movies in theaters that often, for various reasons, and it's actually been over a year since I saw a film on the big screen. I had heard for months all the hype about this movie, and I'm not much for hype in general, but ALL the hype about this particular film is justified. It is simply put, a stunning cinematic masterpiece.  The last time I had such overwhelmingly positive emotions (and a lot of intellectual ones also) about a film was when I saw \"Forrest Gump\" for the first time, although the \"experience\" of seeing \"Titanic\" went much further. I recall feeling so strongly positive towards only two other films in my life after seeing them initially, and those moments were after seeing \"Apocalypse Now\" back in 1980 and \"Close Encounters\" back in 1977. \"Titanic\" is an instant top-ten for me, and that's saying a lot, since my list of all time favorites numbers somewhere near 1000 films. I had to fight tears several times during this movie, and the end was simply overwhelming. In a weird sort of way, though I had no idea exactly how the film WOULD end, it lived up to my actual hopes of how it SHOULD end. In fact, the last few moments of \"Titanic\" are probably the most poignant and fervent ones I've ever experienced in ANY film.  I would be shocked that anyone could watch the end, and NOT have an extremely moving personal reaction, unless perhaps their blood was indeed pure Vulcan, and \"emotion\" was a concept they did not understand. What's so amazing about the end, and other such moments throughout the film, is that for all of its budget (over $200 million) and hype, in many ways, this is a very \"personal\" film from director James Cameron (Terminator 2, The Abyss, Aliens, etc.), and never do the eye-popping special effects (of which there are plenty) get in the way of the very special \"love story\" being told. That utterly and unashamedly romantic aspect, despite what some may think of such a blockbuster \"disaster\" movie, is at the heart of \"Titanic,\" and it is as powerful, convincing, and passionate, as the actual representation of the sinking of the ship, which only begins halfway through the movie itself. One may think that the real pleasures to be had are in seeing some of that (well spent) money up there on screen in the form of such state-of-the-art effects, and that one might feel a bit bored or cheated UNTIL those parts come.  But the truth is, the first half of the movie, which has nothing to do with the sinking, is JUST as hypnotic and gripping, as the latter half. In fact, even if the ship had not sank, and Cameron had simply told us the love story of Jack ((Leonardo DiCaprio) and Rose (Kate Winslet), completely uninterrupted by the tragedy which we all know beforehand IS coming, this STILL would've been a great film. In other words, for all the power and spectacle of the film after the ship hits the iceberg (the second half), the first half is no less compelling and involving for the viewer. Add the two together, and what you've basically got is over three hours of absolutely spellbinding entertainment. To see \"Titanic\" in a way, is not so much like watching a movie, as it is to \"experience\" the best that cinema can possibly offer. \"Suspension of disbelief\" kicks easily in some 10 minutes into the film, and for over three hours, one is literally \"experiencing\" a whole other reality. The length of the movie seems quite short, in this respect. It is THAT good.  I will not attempt to summarize the plot here (ship sails, ship sinks, okay?), to list various technical aspects of the production, nor even dwell on the historical event this fictional film uses as a backdrop for the story it tells. Such information can be found elsewhere. What I would like to do is simply share my own individual feelings and reactions, after having been so astonished by a movie. As it has already won so many awards and plaudits, and has already become the most popular film ever made (at least in terms of money earned), I know that my own reaction is not an isolated one. It has been said that a helluva lot of money went into advertising this movie, but this could've easily been saved. For in all ways, this is a word-of-mouth film if there ever were one. Once you've seen it, once you've been blown away by it, you can't wait to share that reaction with others. THIS is what made \"Titanic\" so popular, why it has earned so much money and applause. I am certain that millions were/are enthusiastically saying basically the same thing to their friends and family, after seeing the film for the first time. \"I've just seen one of the most wonderful films ever, let me tell you about it",
      "\" I went in expecting to be kind of disappointed, but left in a daze. The movie was a real thrill on so many levels. At this length, it was consistently fascinating and moving, never a lapse of interest at any time. The technical qualities are impossible to describe. Cameron takes the viewer ON the ship. Everything is as real and detailed as one could get, and the final hour and a half of the ship's sinking is really just as frightening and real as if you were there. The film's techniques are just so extraordinary. There are at least a dozen different little points which are totally unexpected, and done so fluidly and beautifully. For instance, during the middle of this extended scene of havoc and confusion near the end when the ship is going down, Cameron throws in this short little ten second snip which shows the ship very tiny all alone on the dark ocean, with the stars shining above, in totally calm waters, and it shoots off this little meaningless flare. For all its glory and mammoth proportions, at that moment, this technological wonder (even by today's standards) of man's creative abilities, is seen as totally impotent and meaningless when compared to nature.  Then there's another short scene where the camera does this massive and continuous sweep from a close up of the front of the ship, all the way above and down the length of it, past it, and behind it. How this was done, one can only guess. Computers and money? Still, the overall effect, given the sweeping romantic moment this one single shot deals with, is simply staggering.  There are moments such as these throughout the picture however. When the 101 year old woman (Rose, who tells her story via flashback) is first shown video of the sunken ship's remains by the crew of a salvage ship in present day, her aged, feeble hand reaches out to the television monitor, and she gasps with emotion. The crew of this salvage ship, who are basically greedy and unsympathetic to the plight of the ship's passengers and their real ordeal, do not really understand the emotion Rose feels. They show her a brief computer simulation of how the ship sank, and are all quite casual and flippant about her experiences and memories. At one point, the captain of the ship asks her to tell them her own story, then interrupts her almost immediately.  She sternly looks at him, and says something like, \"Do you want to hear my story or not?\" As if being scolded by an elder, the captain and the rest remain quiet, and Rose begins reminiscing.  Cameron does a slow zoom into the very eye of the woman, and soon we are transported back to England, in 1912, at the launching of the ship. Surely, this technique has been used before, but never so powerfully and effectively.  When the ship does finally get under way, the scenes of the interior of the engine room, are equally remarkable. Though nature will eventually have her way with this technological invention, one easily gets the feeling that, at the time, this ship was the height of mankind's industrial age achievement. Massive gears and pistons of iron and steel move and roar on multi-leveled decks, and white-hot boiler rooms filled with sweating, muscular men shoveling coals, give the viewer the clear impression that the notion of this, mankind's most intricate and complicated mechanical accomplishment, was truly \"unsinkable.\" These interior engine scenes are quite powerful, as they immediately establish a sense of the immense nature of the ship with the audience, and at the same time, create an empathetic and identifying camaraderie with the characters and their state of mind throughout the rest of the film. The opulent and lavish sets onboard and the marvelous camera techniques sweeping gloriously and continuously throughout the film, also add to this instant audience identification and sympathy. For at all times, Cameron is totally successful at creating a totally realistic atmosphere. So much so, that when the ship does finally start to flounder, the shock and disbelief which must have bewildered and traumatized those onboard, is equally shared by the viewer. By this time however, there is an added element, the love story between Jack and Rose. We are caught up so totally in that also, that the coming, inevitable catastrophe seems all that more effective. I fully believe this was Cameron's intent all along, in devoting so much of the movie to the romantic allegory. Great care was obviously taken to make this aspect as mesmerizing as possible, so that the audience would feel that they were not just watching a demonstration of the physical disaster itself, but a very personal glimpse into the real lives of real people who lost their lives so unexpectedly. In this sense, for all the praise and acclaim the special effects of \"Titanic\" has received (all fully deserved), without the extra care and touches Cameron devotes to the story and characters, this film would've easily sunk at the box office more quickly than the ship itself. Throughout, Cameron's techniques seem flawless. It really does seem as if every piece of film, every scene, was carefully shot and edited in as stirring a manner as possible. In addition, James Horner's brilliant music (in many different styles to boot) gives virtually every scene, regardless of the content, extra depth, feeling, and romance.  The movie is fascinating and completely involving from start to finish and even its three hour plus length is something almost unnoticed, unless one has to go to the bathroom half way into it.  In this sense, since there is no intermission, I suggest all DO this before entering the theater.  Only a few minutes in however, one is easily caught up in the characters, the suspense, the beauty of the cinematography and sets, and the lavish and achingly romantic theme throughout.  One can use all the premium adjectives--\"extraordinary,\" \"spectacular,\" \"breathtaking,\" and so forth to discuss the sinking, which is virtually done in real time (another achievement of the film), but mere words can ever come close to explicitly describing the awesome visuals of watching the Titanic take its final plunge. The effects utilized to depict this seem totally real, virtually indistinguishable from the scenes on board in various interior locations. As is typical from beginning to end, Cameron obviously took great care to interweave various shots into an almost seamless whole, imparting upon nearly each shot a balance and semiotic completeness which only adds gloriously to the story, the motivations and emotions of the various characters, and the true meaning of the historical event itself. Though the story of Jack and Rose is undoubtedly almost entirely fictional, Cameron's film is a tribute to the real survivors in a very real way, for by concentrating so much on the characters in addition to the technical aspects, he has beautifully ingrained in the viewer that this tragedy involved more than just this technological behemoth's collapse, it involved real people. By its end, we have come to care for such people as almost real, not just as fictional movie characters. One of the most intriguing aspects of the movie, which previous films on the subject have seemed to overlook, is the plight of those who found themselves swimming about in the icy Atlantic after the ship finally disappears beneath the surface. Cameron is smart not to simply end the film at the sinking or very shortly afterwards, which I pretty much expected. He shows us clearly and in a devastatingly effective manner, the horrible, albeit short-lived fate of those unfortunates who were not lucky enough to make it into a boat, but found themselves very much alive and suffering in the icy waters for their last minutes of life. After all that we have already seen and experienced, once the ship does sink, one might feel some sort of a letdown coming, but amazingly the film again soars in various little, quite subtle but powerful ways. Other films on the event have often basically ended the film quite abruptly after the sinking, and have paid basically cursory attention to this mini-story within a larger one. Not so at all with this version. For example, and there are just so many, when Rose and Jack \"go down with the ship,\" they suddenly find themselves under the murky water, desperately trying to hold onto each other's hands, which nature itself and the violence of the churning ocean makes impossible. For example, Cameron throws in a short shot of these hundreds of people flailing away at each other and the sea from high above, making them all appear as a huge school of hopeless fish caught in some fishing trawler boat's net. For example, as Rose releases Jack, who has frozen to death, his body slowly sinks into the darkness of the ocean beneath, filmed in a strange way not as if he were sinking, but as if he were \"fading.\" For example, as Rose, half alive and dying from the cold, lays on a piece of driftwood, she gazes up at a crystal clear, starry sky, the Milky Way itself quite evident, and for a moment, we get the feeling that the cold and the horror of her impending death has suddenly become almost trivial, next to the wonder and mysterious universe above her. For example, as one of the surviving life boats comes back to the dying survivors and the masses of already dead bodies, they pass by a still barely alive Rose, who summons up some sort of last ditch strength to whimper \"Come back, come back.\" When this occurs, she is still holding onto a dead Jack, but releases him (based upon her promise to him that she would try to survive), and swims with all of her remaining life-force to find a whistle hanging on the neck of a floating corpse, blowing it with her last breath to summon the life boat. There are so many examples such as these, and the truly amazing thing about the film, is that so many such brilliant, evocative, and magical moments are just too numerous and frequent to mention. They surprisingly and exquisitely appear in almost each shot and scene. The most astounding thing about the film however, is the power and almost cosmic taste Cameron gives to what amounts to a simple, old-fashioned (and done before), \"love story.\" Imparting a positive, life-affirming attitude on the whole concept of romantic love itself, which is something sorely lacking in so many \"modern\" movies, the film often takes on an almost surreal tone on passion and desire many times throughout. None of it however, comes off in any way as \"preachy\" or sugary-sweet and phony. True love and its mysterious veneration for the mundane and ordinary, is treated with reverence, understanding, and subtlety by Cameron in so many small ways. For example, at one point, as the upper class Rose is \"instructed\" by the lower class Jack on the finer points of \"spitting,\" what is essentially a rather revolting piece of behavior, is given a quirky, fun, and \"living for the moment\" feel to the budding romance. In this sense, romance itself is seen and presented as an adventure in its own right, which it most certainly can be. Few films today seem to impart such wisdom however. \"Titanic\" revels in this whole sentiment. It also seems to demand its audience do the same, in scene after scene. At one point, for instance, upper class Rose sneaks down to a raucous third class party which Jack is at. Free spirited music, laughter, drinking and games abound, and Rose reservedly (at first) watches Jack dancing wildly with a little girl. Sensing that \"little adventurous girl\" in Rose, Jack takes her hand at one point for the next song and dance, but gently tells the small child \"You're still my best girl.\" This mix of innocence and the blooming of romantic, sensual love, in just this one short scene, is what the entire movie seems full of. Cameron's discerning touch is everywhere when it comes to the romantic and sexual aspects however. For instance, when Jack and Rose first meet, Jack describes his artistic, earthy adventures in Paris drawing the portrait of a prostitute, and the repressed and uptight Rose immediately jumps to the conclusion that Jack's experience was a sexual one. He then describes the prostitute, who had only one leg, and imparts to her that his interest was art, not sex. Later, while drawing a nude Rose, Cameron skillfully conveys the romantic aspect of sexual tension with a beauty and grace I've rarely seen in any other film. Likewise, the innocence of the pair and the consummation of their love is demonstrated by their behavior shortly before and after the act itself, in delicate and playful scenes of the two who have found in each other, the adult-child which each actually is. By showing us the birth of this love affair, and within context of the tragedy which is about to befall it, the film soars time and time again into this almost unworldly area, which is rather hard to describe.  It all invokes a reverence for love and sex, and the two seem quite inseparable in a way. As in earlier scenes where Jack and a friend thrill to the adventure they have embarked upon by boarding the magnificent liner, romance/sex in \"Titanic\" is seen as an \"adventure\" in its own right, and one not too distant from the innocence and exuberance of inexperienced youth itself. Jack and Rose's brief love affair is also the allegory and metaphor behind the larger story itself, both real and fictional. For in a sense, the sinking of this \"unsinkable\" ship, was also the end of a kind of innocence and an age and the beginning of a deeper realization about life, love, and what \"it's all about.\" From beginning to end however, the film seems to shake an angry fist at any negative connotations of the enduring, healing, and magical power of life and love. This despite the tragedy and horrible loss of life (and love). A neat trick, and I can honestly say I've never seen another film even attempt such a thing, let alone pull it off so brilliantly and convincingly.  For all the loss of life, for all the horror explicitly shown in so many outstanding ways, \"Titanic\" is one of the most positive comments on life I've ever seen. Like any great film, its various components and ideas stay with you long after you've left the theater. There is so much real food for thought and contemplation here about so many related themes and ideas, that it is no wonder so many feel compelled to see it again and again. In this movie's case, once is clearly not enough. The feeling I got mostly from my \"experience\" of seeing this wonderful film however, is that of a real confirmation that we, as human beings, are somehow \"more\" than just these bodies, these pieces of matter and chemicals all interacting and that there definitely is \"meaning\" in our lives, or can be. It seems like something that must be taken and accepted however, more in a spiritual kind of \"faith\" than reason. This very dualistic concept is mentioned more than a few times in the film itself, and is especially evident in the personality of Jack and the strength and courage which he eventually brings out in Rose. I think the subject matter, this horrible death of so many, was a perfect vehicle in a way, upon which to tell this particular \"love\" story, which is almost entirely fictional. In sum and substance, it's sort of a more generalist love story, which I can't imagine anyone being left untouched in some way by (unless their heart is made of stone).  At its core, \"Titanic\" is a love of LIFE story, and not necessarily in the way one might think.  Sure, when the ship is sinking, Cameron shows us that all aboard desperately want to hang onto life. It's much more than this however. At one point, Rose is being safely lowered in a life boat, her future seemingly assured. But she struggles like hell to get OUT of that vessel of safety and security, to go search for and try to help her love, Jack, who is chained beneath by villains to die like some drowning rat. Cameron knows, and we know by watching his film, that life is much more (or should be) than mere \"survival.\" At another point, near the end, the aged Rose (played flawlessly by Gloria Stuart), calmly, casually, and quite assuredly, tosses a diamond necklace worth millions, into the sea. It is meaningless, physical, material. It has nothing to do with her experiences, with her love, and with her life. Strangely enough, for all the money and hype, the film's \"heart\" is squarely in the right place, and this is the film's ultimate promise and revelation, magnificently realized.  I have a feeling it will be many more years before we see such cinematic gold like this again from the studio system. However, I do hope that if and when Hollywood (as it inevitably must) tries something like this again, it will remember that the real power behind this particular film, has little to do with the effects or the money. For \"Titanic\" is nothing without the story, and without the real meaning and importance Cameron lovingly devotes, in almost every scene, to using uniquely filmic techniques to tell such a story in the way only the art of cinema still seems capable of doing. \"Titanic\" is, in the highest sense of the word, not merely great entertainment, but great art. In a strange sort of way, the director of this utter masterpiece has essentially shot himself in the foot. It's almost unimaginable that he, or any other director, could \"top\" this. It will be quite interesting however, to see if he can. I wish him all the best, for in a very deep sense, with \"Titanic,\" he has unmistakably given the audience a piece of his own heart, openly and unselfishly inviting the viewer to dwell not only in the magic of filmmaking, which he obviously loves with a passion seen in a scarce number of other industry directors, but in the unsinkable human spirit which dwells deep within us all. It is well known, or should be, what a \"gamble\" this film was for him personally, and this movie could've easily went the way of other such mega-epics like \"Heaven's Gate\" and \"Waterworld.\" But in so many ways I've hardly even touched upon, Cameron's \"gamble\" has paid off in spades, not so much monetarily for himself or those involved in the production, but in the sense that film audiences everywhere have been given a treasured gem in this transcendent, immediate classic, one which has already been and will surely in the future, be placed close to people's hearts for years to come, and deservedly so.\n"
     ]
    }
   ],
   "source": [
    "print(df1.review[df1['compound'] == 1].tolist()[0])"
   ]
  },
  {
   "cell_type": "code",
   "execution_count": 49,
   "metadata": {},
   "outputs": [
    {
     "data": {
      "text/plain": [
       "numpy.float64"
      ]
     },
     "execution_count": 49,
     "metadata": {},
     "output_type": "execute_result"
    }
   ],
   "source": [
    "type(df1['compound'][0])"
   ]
  },
  {
   "cell_type": "code",
   "execution_count": 1,
   "metadata": {},
   "outputs": [
    {
     "ename": "NameError",
     "evalue": "name 'df1' is not defined",
     "output_type": "error",
     "traceback": [
      "\u001b[1;31m---------------------------------------------------------------------------\u001b[0m",
      "\u001b[1;31mNameError\u001b[0m                                 Traceback (most recent call last)",
      "\u001b[1;32m<ipython-input-1-e51f5dd68a05>\u001b[0m in \u001b[0;36m<module>\u001b[1;34m()\u001b[0m\n\u001b[1;32m----> 1\u001b[1;33m \u001b[0mdf1\u001b[0m\u001b[1;33m\u001b[0m\u001b[0m\n\u001b[0m",
      "\u001b[1;31mNameError\u001b[0m: name 'df1' is not defined"
     ]
    }
   ],
   "source": [
    "df1"
   ]
  },
  {
   "cell_type": "code",
   "execution_count": 8,
   "metadata": {},
   "outputs": [],
   "source": [
    "df1 = pd.read_csv('step3.csv')"
   ]
  },
  {
   "cell_type": "code",
   "execution_count": 9,
   "metadata": {},
   "outputs": [
    {
     "data": {
      "text/html": [
       "<div>\n",
       "<style scoped>\n",
       "    .dataframe tbody tr th:only-of-type {\n",
       "        vertical-align: middle;\n",
       "    }\n",
       "\n",
       "    .dataframe tbody tr th {\n",
       "        vertical-align: top;\n",
       "    }\n",
       "\n",
       "    .dataframe thead th {\n",
       "        text-align: right;\n",
       "    }\n",
       "</style>\n",
       "<table border=\"1\" class=\"dataframe\">\n",
       "  <thead>\n",
       "    <tr style=\"text-align: right;\">\n",
       "      <th></th>\n",
       "      <th>Unnamed: 0</th>\n",
       "      <th>title</th>\n",
       "      <th>review</th>\n",
       "      <th>senti</th>\n",
       "    </tr>\n",
       "  </thead>\n",
       "  <tbody>\n",
       "    <tr>\n",
       "      <th>0</th>\n",
       "      <td>0</td>\n",
       "      <td>The Hitcher (1986)</td>\n",
       "      <td>[Editor's note: Sites running 2.10 netnews wil...</td>\n",
       "      <td>{'neg': 0.09, 'neu': 0.82, 'pos': 0.09, 'compo...</td>\n",
       "    </tr>\n",
       "    <tr>\n",
       "      <th>1</th>\n",
       "      <td>1</td>\n",
       "      <td>Beyond Therapy (1987)</td>\n",
       "      <td>Set in the offices of two psychoanalysts, and ...</td>\n",
       "      <td>{'neg': 0.095, 'neu': 0.846, 'pos': 0.059, 'co...</td>\n",
       "    </tr>\n",
       "    <tr>\n",
       "      <th>2</th>\n",
       "      <td>2</td>\n",
       "      <td>Angel Heart (1987)</td>\n",
       "      <td>Starring: Mickey Rourke, Robert DeNiro, Lisa B...</td>\n",
       "      <td>{'neg': 0.077, 'neu': 0.843, 'pos': 0.08, 'com...</td>\n",
       "    </tr>\n",
       "    <tr>\n",
       "      <th>3</th>\n",
       "      <td>3</td>\n",
       "      <td>Angel Heart (1987)</td>\n",
       "      <td>Harry Angel (played by Mickey Rourke) is a har...</td>\n",
       "      <td>{'neg': 0.052, 'neu': 0.849, 'pos': 0.099, 'co...</td>\n",
       "    </tr>\n",
       "    <tr>\n",
       "      <th>4</th>\n",
       "      <td>4</td>\n",
       "      <td>Radio Days (1987)</td>\n",
       "      <td>I've been a little lax in getting out movie re...</td>\n",
       "      <td>{'neg': 0.034, 'neu': 0.811, 'pos': 0.155, 'co...</td>\n",
       "    </tr>\n",
       "    <tr>\n",
       "      <th>5</th>\n",
       "      <td>5</td>\n",
       "      <td>A Nightmare on Elm Street 3: Dream Warriors (1...</td>\n",
       "      <td>Yes, the inimitable Freddy Kroeger is back in ...</td>\n",
       "      <td>{'neg': 0.08, 'neu': 0.765, 'pos': 0.154, 'com...</td>\n",
       "    </tr>\n",
       "    <tr>\n",
       "      <th>6</th>\n",
       "      <td>6</td>\n",
       "      <td>A Nightmare on Elm Street 3: Dream Warriors (1...</td>\n",
       "      <td>I really enjoyed the first of these three movi...</td>\n",
       "      <td>{'neg': 0.049, 'neu': 0.873, 'pos': 0.077, 'co...</td>\n",
       "    </tr>\n",
       "    <tr>\n",
       "      <th>7</th>\n",
       "      <td>7</td>\n",
       "      <td>Lethal Weapon (1987)</td>\n",
       "      <td>LETHAL WEAPON is a light-weight action thrille...</td>\n",
       "      <td>{'neg': 0.185, 'neu': 0.68, 'pos': 0.135, 'com...</td>\n",
       "    </tr>\n",
       "    <tr>\n",
       "      <th>8</th>\n",
       "      <td>8</td>\n",
       "      <td>Lethal Weapon (1987)</td>\n",
       "      <td>This is a police thriller in the tradition of ...</td>\n",
       "      <td>{'neg': 0.125, 'neu': 0.707, 'pos': 0.168, 'co...</td>\n",
       "    </tr>\n",
       "    <tr>\n",
       "      <th>9</th>\n",
       "      <td>9</td>\n",
       "      <td>The Bedroom Window (1987)</td>\n",
       "      <td>Capsule review:  In the best film thriller I h...</td>\n",
       "      <td>{'neg': 0.146, 'neu': 0.772, 'pos': 0.082, 'co...</td>\n",
       "    </tr>\n",
       "    <tr>\n",
       "      <th>10</th>\n",
       "      <td>10</td>\n",
       "      <td>Belizaire the Cajun (1986)</td>\n",
       "      <td>Capsule review:  Mark Twain-esque tale of murd...</td>\n",
       "      <td>{'neg': 0.034, 'neu': 0.837, 'pos': 0.129, 'co...</td>\n",
       "    </tr>\n",
       "    <tr>\n",
       "      <th>11</th>\n",
       "      <td>11</td>\n",
       "      <td>Hombre mirando al sudeste (1986)</td>\n",
       "      <td>Capsule review:  A serious science fiction fil...</td>\n",
       "      <td>{'neg': 0.103, 'neu': 0.801, 'pos': 0.095, 'co...</td>\n",
       "    </tr>\n",
       "    <tr>\n",
       "      <th>12</th>\n",
       "      <td>12</td>\n",
       "      <td>Tin Men (1987)</td>\n",
       "      <td>Capsule review:  Chronicle of two aluminum-sid...</td>\n",
       "      <td>{'neg': 0.121, 'neu': 0.732, 'pos': 0.147, 'co...</td>\n",
       "    </tr>\n",
       "    <tr>\n",
       "      <th>13</th>\n",
       "      <td>13</td>\n",
       "      <td>The Wizard of Oz (1939)</td>\n",
       "      <td>Most viewers see THE WIZARD OF OZ as merely a ...</td>\n",
       "      <td>{'neg': 0.083, 'neu': 0.83, 'pos': 0.087, 'com...</td>\n",
       "    </tr>\n",
       "    <tr>\n",
       "      <th>14</th>\n",
       "      <td>14</td>\n",
       "      <td>Evil Dead II (1987)</td>\n",
       "      <td>Capsule review:  There's more budget than logi...</td>\n",
       "      <td>{'neg': 0.2, 'neu': 0.714, 'pos': 0.087, 'comp...</td>\n",
       "    </tr>\n",
       "    <tr>\n",
       "      <th>15</th>\n",
       "      <td>15</td>\n",
       "      <td>Raising Arizona (1987)</td>\n",
       "      <td>I was a big fan of Joel and Ethan Coen's first...</td>\n",
       "      <td>{'neg': 0.133, 'neu': 0.743, 'pos': 0.124, 'co...</td>\n",
       "    </tr>\n",
       "    <tr>\n",
       "      <th>16</th>\n",
       "      <td>16</td>\n",
       "      <td>Raising Arizona (1987)</td>\n",
       "      <td>The Coen brothers have made another movie.  Tw...</td>\n",
       "      <td>{'neg': 0.096, 'neu': 0.775, 'pos': 0.129, 'co...</td>\n",
       "    </tr>\n",
       "    <tr>\n",
       "      <th>17</th>\n",
       "      <td>17</td>\n",
       "      <td>Raising Arizona (1987)</td>\n",
       "      <td>Alright, new approach:  I liked RAISING ARIZON...</td>\n",
       "      <td>{'neg': 0.08, 'neu': 0.775, 'pos': 0.145, 'com...</td>\n",
       "    </tr>\n",
       "    <tr>\n",
       "      <th>18</th>\n",
       "      <td>18</td>\n",
       "      <td>Lethal Weapon (1987)</td>\n",
       "      <td>LETHAL WEAPON tends to be one of those margina...</td>\n",
       "      <td>{'neg': 0.125, 'neu': 0.783, 'pos': 0.092, 'co...</td>\n",
       "    </tr>\n",
       "    <tr>\n",
       "      <th>19</th>\n",
       "      <td>19</td>\n",
       "      <td>Hollywood Shuffle (1987)</td>\n",
       "      <td>With HOLLYWOOD SHUFFLE, first time writer/dire...</td>\n",
       "      <td>{'neg': 0.046, 'neu': 0.797, 'pos': 0.158, 'co...</td>\n",
       "    </tr>\n",
       "    <tr>\n",
       "      <th>20</th>\n",
       "      <td>20</td>\n",
       "      <td>Blind Date (1987)</td>\n",
       "      <td>Walter has a problem.  He needs a date for a d...</td>\n",
       "      <td>{'neg': 0.148, 'neu': 0.717, 'pos': 0.134, 'co...</td>\n",
       "    </tr>\n",
       "    <tr>\n",
       "      <th>21</th>\n",
       "      <td>21</td>\n",
       "      <td>Blind Date (1987)</td>\n",
       "      <td>Blake Edwards has been making comedies for a l...</td>\n",
       "      <td>{'neg': 0.102, 'neu': 0.769, 'pos': 0.13, 'com...</td>\n",
       "    </tr>\n",
       "    <tr>\n",
       "      <th>22</th>\n",
       "      <td>22</td>\n",
       "      <td>The Toxic Avenger (1985)</td>\n",
       "      <td>Capsule review:  This is a feeble parody on su...</td>\n",
       "      <td>{'neg': 0.085, 'neu': 0.793, 'pos': 0.122, 'co...</td>\n",
       "    </tr>\n",
       "    <tr>\n",
       "      <th>23</th>\n",
       "      <td>23</td>\n",
       "      <td>Burglar (1987)</td>\n",
       "      <td>I hate having to echo Siskel &amp; Ebert, but some...</td>\n",
       "      <td>{'neg': 0.075, 'neu': 0.793, 'pos': 0.132, 'co...</td>\n",
       "    </tr>\n",
       "    <tr>\n",
       "      <th>24</th>\n",
       "      <td>24</td>\n",
       "      <td>Hoosiers (1986)</td>\n",
       "      <td>HOOSIERS is the first sports movie since THE N...</td>\n",
       "      <td>{'neg': 0.038, 'neu': 0.781, 'pos': 0.181, 'co...</td>\n",
       "    </tr>\n",
       "    <tr>\n",
       "      <th>25</th>\n",
       "      <td>25</td>\n",
       "      <td>Lily Tomlin (1986)</td>\n",
       "      <td>First of all, I wish to separate myself from \"...</td>\n",
       "      <td>{'neg': 0.028, 'neu': 0.867, 'pos': 0.106, 'co...</td>\n",
       "    </tr>\n",
       "    <tr>\n",
       "      <th>26</th>\n",
       "      <td>26</td>\n",
       "      <td>'Breaker' Morant (1980)</td>\n",
       "      <td>Speaking of unknown great movies, here is a sh...</td>\n",
       "      <td>{'neg': 0.097, 'neu': 0.786, 'pos': 0.117, 'co...</td>\n",
       "    </tr>\n",
       "    <tr>\n",
       "      <th>27</th>\n",
       "      <td>27</td>\n",
       "      <td>The Stunt Man (1980)</td>\n",
       "      <td>I have been enjoying reading about the various...</td>\n",
       "      <td>{'neg': 0.036, 'neu': 0.792, 'pos': 0.172, 'co...</td>\n",
       "    </tr>\n",
       "    <tr>\n",
       "      <th>28</th>\n",
       "      <td>28</td>\n",
       "      <td>Brother Sun, Sister Moon (1973)</td>\n",
       "      <td>There has been a good deal of discussion about...</td>\n",
       "      <td>{'neg': 0.045, 'neu': 0.829, 'pos': 0.126, 'co...</td>\n",
       "    </tr>\n",
       "    <tr>\n",
       "      <th>29</th>\n",
       "      <td>29</td>\n",
       "      <td>The Long Riders (1980)</td>\n",
       "      <td>Another western (and I don't generally like we...</td>\n",
       "      <td>{'neg': 0.046, 'neu': 0.824, 'pos': 0.129, 'co...</td>\n",
       "    </tr>\n",
       "    <tr>\n",
       "      <th>...</th>\n",
       "      <td>...</td>\n",
       "      <td>...</td>\n",
       "      <td>...</td>\n",
       "      <td>...</td>\n",
       "    </tr>\n",
       "    <tr>\n",
       "      <th>27855</th>\n",
       "      <td>27855</td>\n",
       "      <td>Alien: Resurrection (1997)</td>\n",
       "      <td>I had a great day at the movies today (11/26)....</td>\n",
       "      <td>{'neg': 0.083, 'neu': 0.729, 'pos': 0.188, 'co...</td>\n",
       "    </tr>\n",
       "    <tr>\n",
       "      <th>27856</th>\n",
       "      <td>27856</td>\n",
       "      <td>Alien: Resurrection (1997)</td>\n",
       "      <td>It seems not a lot has changed in a hundred ye...</td>\n",
       "      <td>{'neg': 0.069, 'neu': 0.744, 'pos': 0.187, 'co...</td>\n",
       "    </tr>\n",
       "    <tr>\n",
       "      <th>27857</th>\n",
       "      <td>27857</td>\n",
       "      <td>I Know What You Did Last Summer (1997)</td>\n",
       "      <td>I KNOW WHAT YOU DID LAST SUMMER (Columbia - 19...</td>\n",
       "      <td>{'neg': 0.117, 'neu': 0.761, 'pos': 0.122, 'co...</td>\n",
       "    </tr>\n",
       "    <tr>\n",
       "      <th>27858</th>\n",
       "      <td>27858</td>\n",
       "      <td>The Wings of the Dove (1997)</td>\n",
       "      <td>THE WINGS OF THE DOVE (Miramax - 1997) Starrin...</td>\n",
       "      <td>{'neg': 0.089, 'neu': 0.752, 'pos': 0.159, 'co...</td>\n",
       "    </tr>\n",
       "    <tr>\n",
       "      <th>27859</th>\n",
       "      <td>27859</td>\n",
       "      <td>Suicide Kings (1997)</td>\n",
       "      <td>starring Christopher Walken, Jay Mohr, Dennis ...</td>\n",
       "      <td>{'neg': 0.079, 'neu': 0.848, 'pos': 0.073, 'co...</td>\n",
       "    </tr>\n",
       "    <tr>\n",
       "      <th>27860</th>\n",
       "      <td>27860</td>\n",
       "      <td>Men in Black (1997)</td>\n",
       "      <td>A lot of times a three-star film will be my fa...</td>\n",
       "      <td>{'neg': 0.01, 'neu': 0.859, 'pos': 0.131, 'com...</td>\n",
       "    </tr>\n",
       "    <tr>\n",
       "      <th>27861</th>\n",
       "      <td>27861</td>\n",
       "      <td>Spawn (1997)</td>\n",
       "      <td>starring John Leguizamo, Michael Jai White, Ma...</td>\n",
       "      <td>{'neg': 0.116, 'neu': 0.798, 'pos': 0.086, 'co...</td>\n",
       "    </tr>\n",
       "    <tr>\n",
       "      <th>27862</th>\n",
       "      <td>27862</td>\n",
       "      <td>G.I. Jane (1997)</td>\n",
       "      <td>In English class they teach you that there are...</td>\n",
       "      <td>{'neg': 0.1, 'neu': 0.806, 'pos': 0.094, 'comp...</td>\n",
       "    </tr>\n",
       "    <tr>\n",
       "      <th>27863</th>\n",
       "      <td>27863</td>\n",
       "      <td>Amistad (1997)</td>\n",
       "      <td>Some years ago it became fashionable in politi...</td>\n",
       "      <td>{'neg': 0.097, 'neu': 0.81, 'pos': 0.093, 'com...</td>\n",
       "    </tr>\n",
       "    <tr>\n",
       "      <th>27864</th>\n",
       "      <td>27864</td>\n",
       "      <td>Midnight in the Garden of Good and Evil (1997)</td>\n",
       "      <td>Somewhere between this year's \"Absolute Power\"...</td>\n",
       "      <td>{'neg': 0.078, 'neu': 0.805, 'pos': 0.117, 'co...</td>\n",
       "    </tr>\n",
       "    <tr>\n",
       "      <th>27865</th>\n",
       "      <td>27865</td>\n",
       "      <td>To Wong Foo, Thanks for Everything, Julie Newm...</td>\n",
       "      <td>TO WONG FOO, THANKS FOR EVERYTHING! JULIE NEWM...</td>\n",
       "      <td>{'neg': 0.1, 'neu': 0.795, 'pos': 0.105, 'comp...</td>\n",
       "    </tr>\n",
       "    <tr>\n",
       "      <th>27866</th>\n",
       "      <td>27866</td>\n",
       "      <td>Alien: Resurrection (1997)</td>\n",
       "      <td>If you compared the basics of Aliens (the seco...</td>\n",
       "      <td>{'neg': 0.051, 'neu': 0.831, 'pos': 0.118, 'co...</td>\n",
       "    </tr>\n",
       "    <tr>\n",
       "      <th>27867</th>\n",
       "      <td>27867</td>\n",
       "      <td>Anastasia (1997)</td>\n",
       "      <td>Anastasia         Directors: Don Bluth and Gar...</td>\n",
       "      <td>{'neg': 0.048, 'neu': 0.835, 'pos': 0.118, 'co...</td>\n",
       "    </tr>\n",
       "    <tr>\n",
       "      <th>27868</th>\n",
       "      <td>27868</td>\n",
       "      <td>Alien: Resurrection (1997)</td>\n",
       "      <td>Starring: Sigourney Weaver, Winona Ryder Synop...</td>\n",
       "      <td>{'neg': 0.038, 'neu': 0.882, 'pos': 0.08, 'com...</td>\n",
       "    </tr>\n",
       "    <tr>\n",
       "      <th>27869</th>\n",
       "      <td>27869</td>\n",
       "      <td>Alien: Resurrection (1997)</td>\n",
       "      <td>Alien Resurrection (1997)         Rated R for ...</td>\n",
       "      <td>{'neg': 0.097, 'neu': 0.72, 'pos': 0.183, 'com...</td>\n",
       "    </tr>\n",
       "    <tr>\n",
       "      <th>27870</th>\n",
       "      <td>27870</td>\n",
       "      <td>Bent (1997)</td>\n",
       "      <td>The best thing about \"Bent\" is that it adds to...</td>\n",
       "      <td>{'neg': 0.069, 'neu': 0.832, 'pos': 0.099, 'co...</td>\n",
       "    </tr>\n",
       "    <tr>\n",
       "      <th>27871</th>\n",
       "      <td>27871</td>\n",
       "      <td>Anastasia (1997)</td>\n",
       "      <td>Directed by: Don Bluth and Gary Goldman Songs ...</td>\n",
       "      <td>{'neg': 0.027, 'neu': 0.845, 'pos': 0.127, 'co...</td>\n",
       "    </tr>\n",
       "    <tr>\n",
       "      <th>27872</th>\n",
       "      <td>27872</td>\n",
       "      <td>Snow White (1997)</td>\n",
       "      <td>To tell you the truth, I grew up with fairy ta...</td>\n",
       "      <td>{'neg': 0.16, 'neu': 0.676, 'pos': 0.164, 'com...</td>\n",
       "    </tr>\n",
       "    <tr>\n",
       "      <th>27873</th>\n",
       "      <td>27873</td>\n",
       "      <td>Eight Men Out (1988)</td>\n",
       "      <td>\"Eight Men Out\" tells the story of the Black S...</td>\n",
       "      <td>{'neg': 0.092, 'neu': 0.789, 'pos': 0.118, 'co...</td>\n",
       "    </tr>\n",
       "    <tr>\n",
       "      <th>27874</th>\n",
       "      <td>27874</td>\n",
       "      <td>The Jackal (1997)</td>\n",
       "      <td>I had not seen the film this was based on, I a...</td>\n",
       "      <td>{'neg': 0.078, 'neu': 0.805, 'pos': 0.117, 'co...</td>\n",
       "    </tr>\n",
       "    <tr>\n",
       "      <th>27875</th>\n",
       "      <td>27875</td>\n",
       "      <td>Alien (1979)</td>\n",
       "      <td>CAPSULE: THE trend-setter for crossbreeds of h...</td>\n",
       "      <td>{'neg': 0.086, 'neu': 0.841, 'pos': 0.073, 'co...</td>\n",
       "    </tr>\n",
       "    <tr>\n",
       "      <th>27876</th>\n",
       "      <td>27876</td>\n",
       "      <td>Alien: Resurrection (1997)</td>\n",
       "      <td>This fourth, and seemingly innocuous, installm...</td>\n",
       "      <td>{'neg': 0.092, 'neu': 0.797, 'pos': 0.112, 'co...</td>\n",
       "    </tr>\n",
       "    <tr>\n",
       "      <th>27877</th>\n",
       "      <td>27877</td>\n",
       "      <td>The Shawshank Redemption (1994)</td>\n",
       "      <td>THE SHAWSHANK REDEMPTION is by far one of the ...</td>\n",
       "      <td>{'neg': 0.131, 'neu': 0.671, 'pos': 0.198, 'co...</td>\n",
       "    </tr>\n",
       "    <tr>\n",
       "      <th>27878</th>\n",
       "      <td>27878</td>\n",
       "      <td>Hamlet (1996)</td>\n",
       "      <td>Kenneth Branagh, Derek Jacobi, Nicholas Farrel...</td>\n",
       "      <td>{'neg': 0.121, 'neu': 0.746, 'pos': 0.134, 'co...</td>\n",
       "    </tr>\n",
       "    <tr>\n",
       "      <th>27879</th>\n",
       "      <td>27879</td>\n",
       "      <td>Men in Black (1997)</td>\n",
       "      <td>\"Men in Black\" is a black comedy.  It stars To...</td>\n",
       "      <td>{'neg': 0.102, 'neu': 0.677, 'pos': 0.221, 'co...</td>\n",
       "    </tr>\n",
       "    <tr>\n",
       "      <th>27880</th>\n",
       "      <td>27880</td>\n",
       "      <td>The Jackal (1997)</td>\n",
       "      <td>John Wilkes Booth, Sirhan Sirhan, Gavrilo Prin...</td>\n",
       "      <td>{'neg': 0.121, 'neu': 0.749, 'pos': 0.13, 'com...</td>\n",
       "    </tr>\n",
       "    <tr>\n",
       "      <th>27881</th>\n",
       "      <td>27881</td>\n",
       "      <td>A Midsummer Night's Dream (1935)</td>\n",
       "      <td>Reviewing a movie that came out in the 30's ca...</td>\n",
       "      <td>{'neg': 0.099, 'neu': 0.728, 'pos': 0.173, 'co...</td>\n",
       "    </tr>\n",
       "    <tr>\n",
       "      <th>27882</th>\n",
       "      <td>27882</td>\n",
       "      <td>Alien: Resurrection (1997)</td>\n",
       "      <td>Starring: Sigourney Weaver (Lt. Ellen Ripley [...</td>\n",
       "      <td>{'neg': 0.054, 'neu': 0.775, 'pos': 0.171, 'co...</td>\n",
       "    </tr>\n",
       "    <tr>\n",
       "      <th>27883</th>\n",
       "      <td>27883</td>\n",
       "      <td>Selena (1997)</td>\n",
       "      <td>I have to confess that I know little about Sel...</td>\n",
       "      <td>{'neg': 0.065, 'neu': 0.817, 'pos': 0.118, 'co...</td>\n",
       "    </tr>\n",
       "    <tr>\n",
       "      <th>27884</th>\n",
       "      <td>27884</td>\n",
       "      <td>Miracle on 34th Street (1994)</td>\n",
       "      <td>\"Miracle on 34th Street\" is, of course, a rema...</td>\n",
       "      <td>{'neg': 0.066, 'neu': 0.766, 'pos': 0.168, 'co...</td>\n",
       "    </tr>\n",
       "  </tbody>\n",
       "</table>\n",
       "<p>27885 rows × 4 columns</p>\n",
       "</div>"
      ],
      "text/plain": [
       "       Unnamed: 0                                              title  \\\n",
       "0               0                                 The Hitcher (1986)   \n",
       "1               1                              Beyond Therapy (1987)   \n",
       "2               2                                 Angel Heart (1987)   \n",
       "3               3                                 Angel Heart (1987)   \n",
       "4               4                                  Radio Days (1987)   \n",
       "5               5  A Nightmare on Elm Street 3: Dream Warriors (1...   \n",
       "6               6  A Nightmare on Elm Street 3: Dream Warriors (1...   \n",
       "7               7                               Lethal Weapon (1987)   \n",
       "8               8                               Lethal Weapon (1987)   \n",
       "9               9                          The Bedroom Window (1987)   \n",
       "10             10                         Belizaire the Cajun (1986)   \n",
       "11             11                   Hombre mirando al sudeste (1986)   \n",
       "12             12                                     Tin Men (1987)   \n",
       "13             13                            The Wizard of Oz (1939)   \n",
       "14             14                                Evil Dead II (1987)   \n",
       "15             15                             Raising Arizona (1987)   \n",
       "16             16                             Raising Arizona (1987)   \n",
       "17             17                             Raising Arizona (1987)   \n",
       "18             18                               Lethal Weapon (1987)   \n",
       "19             19                           Hollywood Shuffle (1987)   \n",
       "20             20                                  Blind Date (1987)   \n",
       "21             21                                  Blind Date (1987)   \n",
       "22             22                           The Toxic Avenger (1985)   \n",
       "23             23                                     Burglar (1987)   \n",
       "24             24                                    Hoosiers (1986)   \n",
       "25             25                                 Lily Tomlin (1986)   \n",
       "26             26                            'Breaker' Morant (1980)   \n",
       "27             27                               The Stunt Man (1980)   \n",
       "28             28                    Brother Sun, Sister Moon (1973)   \n",
       "29             29                             The Long Riders (1980)   \n",
       "...           ...                                                ...   \n",
       "27855       27855                         Alien: Resurrection (1997)   \n",
       "27856       27856                         Alien: Resurrection (1997)   \n",
       "27857       27857             I Know What You Did Last Summer (1997)   \n",
       "27858       27858                       The Wings of the Dove (1997)   \n",
       "27859       27859                               Suicide Kings (1997)   \n",
       "27860       27860                                Men in Black (1997)   \n",
       "27861       27861                                       Spawn (1997)   \n",
       "27862       27862                                   G.I. Jane (1997)   \n",
       "27863       27863                                     Amistad (1997)   \n",
       "27864       27864     Midnight in the Garden of Good and Evil (1997)   \n",
       "27865       27865  To Wong Foo, Thanks for Everything, Julie Newm...   \n",
       "27866       27866                         Alien: Resurrection (1997)   \n",
       "27867       27867                                   Anastasia (1997)   \n",
       "27868       27868                         Alien: Resurrection (1997)   \n",
       "27869       27869                         Alien: Resurrection (1997)   \n",
       "27870       27870                                        Bent (1997)   \n",
       "27871       27871                                   Anastasia (1997)   \n",
       "27872       27872                                  Snow White (1997)   \n",
       "27873       27873                               Eight Men Out (1988)   \n",
       "27874       27874                                  The Jackal (1997)   \n",
       "27875       27875                                       Alien (1979)   \n",
       "27876       27876                         Alien: Resurrection (1997)   \n",
       "27877       27877                    The Shawshank Redemption (1994)   \n",
       "27878       27878                                      Hamlet (1996)   \n",
       "27879       27879                                Men in Black (1997)   \n",
       "27880       27880                                  The Jackal (1997)   \n",
       "27881       27881                   A Midsummer Night's Dream (1935)   \n",
       "27882       27882                         Alien: Resurrection (1997)   \n",
       "27883       27883                                      Selena (1997)   \n",
       "27884       27884                      Miracle on 34th Street (1994)   \n",
       "\n",
       "                                                  review  \\\n",
       "0      [Editor's note: Sites running 2.10 netnews wil...   \n",
       "1      Set in the offices of two psychoanalysts, and ...   \n",
       "2      Starring: Mickey Rourke, Robert DeNiro, Lisa B...   \n",
       "3      Harry Angel (played by Mickey Rourke) is a har...   \n",
       "4      I've been a little lax in getting out movie re...   \n",
       "5      Yes, the inimitable Freddy Kroeger is back in ...   \n",
       "6      I really enjoyed the first of these three movi...   \n",
       "7      LETHAL WEAPON is a light-weight action thrille...   \n",
       "8      This is a police thriller in the tradition of ...   \n",
       "9      Capsule review:  In the best film thriller I h...   \n",
       "10     Capsule review:  Mark Twain-esque tale of murd...   \n",
       "11     Capsule review:  A serious science fiction fil...   \n",
       "12     Capsule review:  Chronicle of two aluminum-sid...   \n",
       "13     Most viewers see THE WIZARD OF OZ as merely a ...   \n",
       "14     Capsule review:  There's more budget than logi...   \n",
       "15     I was a big fan of Joel and Ethan Coen's first...   \n",
       "16     The Coen brothers have made another movie.  Tw...   \n",
       "17     Alright, new approach:  I liked RAISING ARIZON...   \n",
       "18     LETHAL WEAPON tends to be one of those margina...   \n",
       "19     With HOLLYWOOD SHUFFLE, first time writer/dire...   \n",
       "20     Walter has a problem.  He needs a date for a d...   \n",
       "21     Blake Edwards has been making comedies for a l...   \n",
       "22     Capsule review:  This is a feeble parody on su...   \n",
       "23     I hate having to echo Siskel & Ebert, but some...   \n",
       "24     HOOSIERS is the first sports movie since THE N...   \n",
       "25     First of all, I wish to separate myself from \"...   \n",
       "26     Speaking of unknown great movies, here is a sh...   \n",
       "27     I have been enjoying reading about the various...   \n",
       "28     There has been a good deal of discussion about...   \n",
       "29     Another western (and I don't generally like we...   \n",
       "...                                                  ...   \n",
       "27855  I had a great day at the movies today (11/26)....   \n",
       "27856  It seems not a lot has changed in a hundred ye...   \n",
       "27857  I KNOW WHAT YOU DID LAST SUMMER (Columbia - 19...   \n",
       "27858  THE WINGS OF THE DOVE (Miramax - 1997) Starrin...   \n",
       "27859  starring Christopher Walken, Jay Mohr, Dennis ...   \n",
       "27860  A lot of times a three-star film will be my fa...   \n",
       "27861  starring John Leguizamo, Michael Jai White, Ma...   \n",
       "27862  In English class they teach you that there are...   \n",
       "27863  Some years ago it became fashionable in politi...   \n",
       "27864  Somewhere between this year's \"Absolute Power\"...   \n",
       "27865  TO WONG FOO, THANKS FOR EVERYTHING! JULIE NEWM...   \n",
       "27866  If you compared the basics of Aliens (the seco...   \n",
       "27867  Anastasia         Directors: Don Bluth and Gar...   \n",
       "27868  Starring: Sigourney Weaver, Winona Ryder Synop...   \n",
       "27869  Alien Resurrection (1997)         Rated R for ...   \n",
       "27870  The best thing about \"Bent\" is that it adds to...   \n",
       "27871  Directed by: Don Bluth and Gary Goldman Songs ...   \n",
       "27872  To tell you the truth, I grew up with fairy ta...   \n",
       "27873  \"Eight Men Out\" tells the story of the Black S...   \n",
       "27874  I had not seen the film this was based on, I a...   \n",
       "27875  CAPSULE: THE trend-setter for crossbreeds of h...   \n",
       "27876  This fourth, and seemingly innocuous, installm...   \n",
       "27877  THE SHAWSHANK REDEMPTION is by far one of the ...   \n",
       "27878  Kenneth Branagh, Derek Jacobi, Nicholas Farrel...   \n",
       "27879  \"Men in Black\" is a black comedy.  It stars To...   \n",
       "27880  John Wilkes Booth, Sirhan Sirhan, Gavrilo Prin...   \n",
       "27881  Reviewing a movie that came out in the 30's ca...   \n",
       "27882  Starring: Sigourney Weaver (Lt. Ellen Ripley [...   \n",
       "27883  I have to confess that I know little about Sel...   \n",
       "27884  \"Miracle on 34th Street\" is, of course, a rema...   \n",
       "\n",
       "                                                   senti  \n",
       "0      {'neg': 0.09, 'neu': 0.82, 'pos': 0.09, 'compo...  \n",
       "1      {'neg': 0.095, 'neu': 0.846, 'pos': 0.059, 'co...  \n",
       "2      {'neg': 0.077, 'neu': 0.843, 'pos': 0.08, 'com...  \n",
       "3      {'neg': 0.052, 'neu': 0.849, 'pos': 0.099, 'co...  \n",
       "4      {'neg': 0.034, 'neu': 0.811, 'pos': 0.155, 'co...  \n",
       "5      {'neg': 0.08, 'neu': 0.765, 'pos': 0.154, 'com...  \n",
       "6      {'neg': 0.049, 'neu': 0.873, 'pos': 0.077, 'co...  \n",
       "7      {'neg': 0.185, 'neu': 0.68, 'pos': 0.135, 'com...  \n",
       "8      {'neg': 0.125, 'neu': 0.707, 'pos': 0.168, 'co...  \n",
       "9      {'neg': 0.146, 'neu': 0.772, 'pos': 0.082, 'co...  \n",
       "10     {'neg': 0.034, 'neu': 0.837, 'pos': 0.129, 'co...  \n",
       "11     {'neg': 0.103, 'neu': 0.801, 'pos': 0.095, 'co...  \n",
       "12     {'neg': 0.121, 'neu': 0.732, 'pos': 0.147, 'co...  \n",
       "13     {'neg': 0.083, 'neu': 0.83, 'pos': 0.087, 'com...  \n",
       "14     {'neg': 0.2, 'neu': 0.714, 'pos': 0.087, 'comp...  \n",
       "15     {'neg': 0.133, 'neu': 0.743, 'pos': 0.124, 'co...  \n",
       "16     {'neg': 0.096, 'neu': 0.775, 'pos': 0.129, 'co...  \n",
       "17     {'neg': 0.08, 'neu': 0.775, 'pos': 0.145, 'com...  \n",
       "18     {'neg': 0.125, 'neu': 0.783, 'pos': 0.092, 'co...  \n",
       "19     {'neg': 0.046, 'neu': 0.797, 'pos': 0.158, 'co...  \n",
       "20     {'neg': 0.148, 'neu': 0.717, 'pos': 0.134, 'co...  \n",
       "21     {'neg': 0.102, 'neu': 0.769, 'pos': 0.13, 'com...  \n",
       "22     {'neg': 0.085, 'neu': 0.793, 'pos': 0.122, 'co...  \n",
       "23     {'neg': 0.075, 'neu': 0.793, 'pos': 0.132, 'co...  \n",
       "24     {'neg': 0.038, 'neu': 0.781, 'pos': 0.181, 'co...  \n",
       "25     {'neg': 0.028, 'neu': 0.867, 'pos': 0.106, 'co...  \n",
       "26     {'neg': 0.097, 'neu': 0.786, 'pos': 0.117, 'co...  \n",
       "27     {'neg': 0.036, 'neu': 0.792, 'pos': 0.172, 'co...  \n",
       "28     {'neg': 0.045, 'neu': 0.829, 'pos': 0.126, 'co...  \n",
       "29     {'neg': 0.046, 'neu': 0.824, 'pos': 0.129, 'co...  \n",
       "...                                                  ...  \n",
       "27855  {'neg': 0.083, 'neu': 0.729, 'pos': 0.188, 'co...  \n",
       "27856  {'neg': 0.069, 'neu': 0.744, 'pos': 0.187, 'co...  \n",
       "27857  {'neg': 0.117, 'neu': 0.761, 'pos': 0.122, 'co...  \n",
       "27858  {'neg': 0.089, 'neu': 0.752, 'pos': 0.159, 'co...  \n",
       "27859  {'neg': 0.079, 'neu': 0.848, 'pos': 0.073, 'co...  \n",
       "27860  {'neg': 0.01, 'neu': 0.859, 'pos': 0.131, 'com...  \n",
       "27861  {'neg': 0.116, 'neu': 0.798, 'pos': 0.086, 'co...  \n",
       "27862  {'neg': 0.1, 'neu': 0.806, 'pos': 0.094, 'comp...  \n",
       "27863  {'neg': 0.097, 'neu': 0.81, 'pos': 0.093, 'com...  \n",
       "27864  {'neg': 0.078, 'neu': 0.805, 'pos': 0.117, 'co...  \n",
       "27865  {'neg': 0.1, 'neu': 0.795, 'pos': 0.105, 'comp...  \n",
       "27866  {'neg': 0.051, 'neu': 0.831, 'pos': 0.118, 'co...  \n",
       "27867  {'neg': 0.048, 'neu': 0.835, 'pos': 0.118, 'co...  \n",
       "27868  {'neg': 0.038, 'neu': 0.882, 'pos': 0.08, 'com...  \n",
       "27869  {'neg': 0.097, 'neu': 0.72, 'pos': 0.183, 'com...  \n",
       "27870  {'neg': 0.069, 'neu': 0.832, 'pos': 0.099, 'co...  \n",
       "27871  {'neg': 0.027, 'neu': 0.845, 'pos': 0.127, 'co...  \n",
       "27872  {'neg': 0.16, 'neu': 0.676, 'pos': 0.164, 'com...  \n",
       "27873  {'neg': 0.092, 'neu': 0.789, 'pos': 0.118, 'co...  \n",
       "27874  {'neg': 0.078, 'neu': 0.805, 'pos': 0.117, 'co...  \n",
       "27875  {'neg': 0.086, 'neu': 0.841, 'pos': 0.073, 'co...  \n",
       "27876  {'neg': 0.092, 'neu': 0.797, 'pos': 0.112, 'co...  \n",
       "27877  {'neg': 0.131, 'neu': 0.671, 'pos': 0.198, 'co...  \n",
       "27878  {'neg': 0.121, 'neu': 0.746, 'pos': 0.134, 'co...  \n",
       "27879  {'neg': 0.102, 'neu': 0.677, 'pos': 0.221, 'co...  \n",
       "27880  {'neg': 0.121, 'neu': 0.749, 'pos': 0.13, 'com...  \n",
       "27881  {'neg': 0.099, 'neu': 0.728, 'pos': 0.173, 'co...  \n",
       "27882  {'neg': 0.054, 'neu': 0.775, 'pos': 0.171, 'co...  \n",
       "27883  {'neg': 0.065, 'neu': 0.817, 'pos': 0.118, 'co...  \n",
       "27884  {'neg': 0.066, 'neu': 0.766, 'pos': 0.168, 'co...  \n",
       "\n",
       "[27885 rows x 4 columns]"
      ]
     },
     "execution_count": 9,
     "metadata": {},
     "output_type": "execute_result"
    }
   ],
   "source": [
    "df1"
   ]
  },
  {
   "cell_type": "code",
   "execution_count": 26,
   "metadata": {},
   "outputs": [],
   "source": [
    "df1['pos']=df1['senti'].apply(lambda x: ast.literal_eval(x)['pos'])\n",
    "df1['neu']=df1['senti'].apply(lambda x: ast.literal_eval(x)['neu'])\n",
    "df1['neg']=df1['senti'].apply(lambda x: ast.literal_eval(x)['neg'])\n",
    "df1['compound']=df1['senti'].apply(lambda x: ast.literal_eval(x)['compound'])"
   ]
  },
  {
   "cell_type": "code",
   "execution_count": 12,
   "metadata": {
    "collapsed": true
   },
   "outputs": [],
   "source": [
    "df1['pos']=''"
   ]
  },
  {
   "cell_type": "code",
   "execution_count": 23,
   "metadata": {},
   "outputs": [],
   "source": [
    "df1['pos']=df1['senti'].apply(lambda x: ast.literal_eval(x)['pos'])"
   ]
  },
  {
   "cell_type": "code",
   "execution_count": 27,
   "metadata": {},
   "outputs": [
    {
     "data": {
      "text/html": [
       "<div>\n",
       "<style scoped>\n",
       "    .dataframe tbody tr th:only-of-type {\n",
       "        vertical-align: middle;\n",
       "    }\n",
       "\n",
       "    .dataframe tbody tr th {\n",
       "        vertical-align: top;\n",
       "    }\n",
       "\n",
       "    .dataframe thead th {\n",
       "        text-align: right;\n",
       "    }\n",
       "</style>\n",
       "<table border=\"1\" class=\"dataframe\">\n",
       "  <thead>\n",
       "    <tr style=\"text-align: right;\">\n",
       "      <th></th>\n",
       "      <th>Unnamed: 0</th>\n",
       "      <th>title</th>\n",
       "      <th>review</th>\n",
       "      <th>senti</th>\n",
       "      <th>pos</th>\n",
       "      <th>neu</th>\n",
       "      <th>neg</th>\n",
       "      <th>compound</th>\n",
       "    </tr>\n",
       "  </thead>\n",
       "  <tbody>\n",
       "    <tr>\n",
       "      <th>0</th>\n",
       "      <td>0</td>\n",
       "      <td>The Hitcher (1986)</td>\n",
       "      <td>[Editor's note: Sites running 2.10 netnews wil...</td>\n",
       "      <td>{'neg': 0.09, 'neu': 0.82, 'pos': 0.09, 'compo...</td>\n",
       "      <td>0.090</td>\n",
       "      <td>0.820</td>\n",
       "      <td>0.090</td>\n",
       "      <td>-0.7197</td>\n",
       "    </tr>\n",
       "    <tr>\n",
       "      <th>1</th>\n",
       "      <td>1</td>\n",
       "      <td>Beyond Therapy (1987)</td>\n",
       "      <td>Set in the offices of two psychoanalysts, and ...</td>\n",
       "      <td>{'neg': 0.095, 'neu': 0.846, 'pos': 0.059, 'co...</td>\n",
       "      <td>0.059</td>\n",
       "      <td>0.846</td>\n",
       "      <td>0.095</td>\n",
       "      <td>-0.7328</td>\n",
       "    </tr>\n",
       "    <tr>\n",
       "      <th>2</th>\n",
       "      <td>2</td>\n",
       "      <td>Angel Heart (1987)</td>\n",
       "      <td>Starring: Mickey Rourke, Robert DeNiro, Lisa B...</td>\n",
       "      <td>{'neg': 0.077, 'neu': 0.843, 'pos': 0.08, 'com...</td>\n",
       "      <td>0.080</td>\n",
       "      <td>0.843</td>\n",
       "      <td>0.077</td>\n",
       "      <td>-0.3820</td>\n",
       "    </tr>\n",
       "    <tr>\n",
       "      <th>3</th>\n",
       "      <td>3</td>\n",
       "      <td>Angel Heart (1987)</td>\n",
       "      <td>Harry Angel (played by Mickey Rourke) is a har...</td>\n",
       "      <td>{'neg': 0.052, 'neu': 0.849, 'pos': 0.099, 'co...</td>\n",
       "      <td>0.099</td>\n",
       "      <td>0.849</td>\n",
       "      <td>0.052</td>\n",
       "      <td>0.9722</td>\n",
       "    </tr>\n",
       "    <tr>\n",
       "      <th>4</th>\n",
       "      <td>4</td>\n",
       "      <td>Radio Days (1987)</td>\n",
       "      <td>I've been a little lax in getting out movie re...</td>\n",
       "      <td>{'neg': 0.034, 'neu': 0.811, 'pos': 0.155, 'co...</td>\n",
       "      <td>0.155</td>\n",
       "      <td>0.811</td>\n",
       "      <td>0.034</td>\n",
       "      <td>0.9989</td>\n",
       "    </tr>\n",
       "  </tbody>\n",
       "</table>\n",
       "</div>"
      ],
      "text/plain": [
       "   Unnamed: 0                  title  \\\n",
       "0           0     The Hitcher (1986)   \n",
       "1           1  Beyond Therapy (1987)   \n",
       "2           2     Angel Heart (1987)   \n",
       "3           3     Angel Heart (1987)   \n",
       "4           4      Radio Days (1987)   \n",
       "\n",
       "                                              review  \\\n",
       "0  [Editor's note: Sites running 2.10 netnews wil...   \n",
       "1  Set in the offices of two psychoanalysts, and ...   \n",
       "2  Starring: Mickey Rourke, Robert DeNiro, Lisa B...   \n",
       "3  Harry Angel (played by Mickey Rourke) is a har...   \n",
       "4  I've been a little lax in getting out movie re...   \n",
       "\n",
       "                                               senti    pos    neu    neg  \\\n",
       "0  {'neg': 0.09, 'neu': 0.82, 'pos': 0.09, 'compo...  0.090  0.820  0.090   \n",
       "1  {'neg': 0.095, 'neu': 0.846, 'pos': 0.059, 'co...  0.059  0.846  0.095   \n",
       "2  {'neg': 0.077, 'neu': 0.843, 'pos': 0.08, 'com...  0.080  0.843  0.077   \n",
       "3  {'neg': 0.052, 'neu': 0.849, 'pos': 0.099, 'co...  0.099  0.849  0.052   \n",
       "4  {'neg': 0.034, 'neu': 0.811, 'pos': 0.155, 'co...  0.155  0.811  0.034   \n",
       "\n",
       "   compound  \n",
       "0   -0.7197  \n",
       "1   -0.7328  \n",
       "2   -0.3820  \n",
       "3    0.9722  \n",
       "4    0.9989  "
      ]
     },
     "execution_count": 27,
     "metadata": {},
     "output_type": "execute_result"
    }
   ],
   "source": [
    "df1.head()"
   ]
  },
  {
   "cell_type": "code",
   "execution_count": 43,
   "metadata": {},
   "outputs": [
    {
     "ename": "TypeError",
     "evalue": "'Series' object is not callable",
     "output_type": "error",
     "traceback": [
      "\u001b[1;31m---------------------------------------------------------------------------\u001b[0m",
      "\u001b[1;31mTypeError\u001b[0m                                 Traceback (most recent call last)",
      "\u001b[1;32m<ipython-input-43-53c73d7cf7cb>\u001b[0m in \u001b[0;36m<module>\u001b[1;34m()\u001b[0m\n\u001b[1;32m----> 1\u001b[1;33m \u001b[0mdf1\u001b[0m\u001b[1;33m[\u001b[0m\u001b[1;34m'review'\u001b[0m\u001b[1;33m]\u001b[0m\u001b[1;33m(\u001b[0m\u001b[0mlen\u001b[0m\u001b[1;33m(\u001b[0m\u001b[0mdf1\u001b[0m\u001b[1;33m[\u001b[0m\u001b[1;34m'review'\u001b[0m\u001b[1;33m]\u001b[0m\u001b[1;33m)\u001b[0m\u001b[1;33m<\u001b[0m\u001b[1;36m200\u001b[0m\u001b[1;33m)\u001b[0m\u001b[1;33m\u001b[0m\u001b[0m\n\u001b[0m",
      "\u001b[1;31mTypeError\u001b[0m: 'Series' object is not callable"
     ]
    }
   ],
   "source": [
    "df1['review'](len(df1['review'])<200)"
   ]
  },
  {
   "cell_type": "code",
   "execution_count": 47,
   "metadata": {},
   "outputs": [
    {
     "ename": "AttributeError",
     "evalue": "'DataFrame' object has no attribute 'tolist'",
     "output_type": "error",
     "traceback": [
      "\u001b[1;31m---------------------------------------------------------------------------\u001b[0m",
      "\u001b[1;31mAttributeError\u001b[0m                            Traceback (most recent call last)",
      "\u001b[1;32m<ipython-input-47-5ee9ca4a7edc>\u001b[0m in \u001b[0;36m<module>\u001b[1;34m()\u001b[0m\n\u001b[1;32m----> 1\u001b[1;33m \u001b[0mdf1\u001b[0m\u001b[1;33m[\u001b[0m\u001b[0mdf1\u001b[0m\u001b[1;33m[\u001b[0m\u001b[1;34m'compound'\u001b[0m\u001b[1;33m]\u001b[0m \u001b[1;33m<\u001b[0m \u001b[1;33m-\u001b[0m\u001b[1;36m0.9\u001b[0m\u001b[1;33m]\u001b[0m\u001b[1;33m.\u001b[0m\u001b[0mtolist\u001b[0m\u001b[1;33m(\u001b[0m\u001b[1;33m)\u001b[0m\u001b[1;33m[\u001b[0m\u001b[1;36m0\u001b[0m\u001b[1;33m]\u001b[0m\u001b[1;33m\u001b[0m\u001b[0m\n\u001b[0m",
      "\u001b[1;32m~\\Anaconda3\\lib\\site-packages\\pandas\\core\\generic.py\u001b[0m in \u001b[0;36m__getattr__\u001b[1;34m(self, name)\u001b[0m\n\u001b[0;32m   3612\u001b[0m             \u001b[1;32mif\u001b[0m \u001b[0mname\u001b[0m \u001b[1;32min\u001b[0m \u001b[0mself\u001b[0m\u001b[1;33m.\u001b[0m\u001b[0m_info_axis\u001b[0m\u001b[1;33m:\u001b[0m\u001b[1;33m\u001b[0m\u001b[0m\n\u001b[0;32m   3613\u001b[0m                 \u001b[1;32mreturn\u001b[0m \u001b[0mself\u001b[0m\u001b[1;33m[\u001b[0m\u001b[0mname\u001b[0m\u001b[1;33m]\u001b[0m\u001b[1;33m\u001b[0m\u001b[0m\n\u001b[1;32m-> 3614\u001b[1;33m             \u001b[1;32mreturn\u001b[0m \u001b[0mobject\u001b[0m\u001b[1;33m.\u001b[0m\u001b[0m__getattribute__\u001b[0m\u001b[1;33m(\u001b[0m\u001b[0mself\u001b[0m\u001b[1;33m,\u001b[0m \u001b[0mname\u001b[0m\u001b[1;33m)\u001b[0m\u001b[1;33m\u001b[0m\u001b[0m\n\u001b[0m\u001b[0;32m   3615\u001b[0m \u001b[1;33m\u001b[0m\u001b[0m\n\u001b[0;32m   3616\u001b[0m     \u001b[1;32mdef\u001b[0m \u001b[0m__setattr__\u001b[0m\u001b[1;33m(\u001b[0m\u001b[0mself\u001b[0m\u001b[1;33m,\u001b[0m \u001b[0mname\u001b[0m\u001b[1;33m,\u001b[0m \u001b[0mvalue\u001b[0m\u001b[1;33m)\u001b[0m\u001b[1;33m:\u001b[0m\u001b[1;33m\u001b[0m\u001b[0m\n",
      "\u001b[1;31mAttributeError\u001b[0m: 'DataFrame' object has no attribute 'tolist'"
     ]
    }
   ],
   "source": [
    "df1.review[df1['compound'] < -0.9].tolist()[0]"
   ]
  },
  {
   "cell_type": "code",
   "execution_count": 51,
   "metadata": {},
   "outputs": [
    {
     "data": {
      "text/plain": [
       "4691"
      ]
     },
     "execution_count": 51,
     "metadata": {},
     "output_type": "execute_result"
    }
   ],
   "source": [
    "len(df1.review[df1['compound'] < -0.9])"
   ]
  },
  {
   "cell_type": "code",
   "execution_count": 53,
   "metadata": {},
   "outputs": [],
   "source": [
    "aa = df1.review[df1['compound'] < -0.9].apply(lambda x: len(x))"
   ]
  },
  {
   "cell_type": "code",
   "execution_count": 56,
   "metadata": {},
   "outputs": [
    {
     "data": {
      "text/plain": [
       "108      877\n",
       "151      898\n",
       "4556     854\n",
       "5327     521\n",
       "5804     987\n",
       "7411     952\n",
       "8954     794\n",
       "17119    948\n",
       "17692    832\n",
       "22823    980\n",
       "22975    652\n",
       "23551    737\n",
       "26171    849\n",
       "Name: review, dtype: int64"
      ]
     },
     "execution_count": 56,
     "metadata": {},
     "output_type": "execute_result"
    }
   ],
   "source": [
    "aa[aa<1000]"
   ]
  },
  {
   "cell_type": "code",
   "execution_count": 64,
   "metadata": {},
   "outputs": [
    {
     "name": "stdout",
     "output_type": "stream",
     "text": [
      "SAVING PRIVATE RYAN (Dreamworks/Paramount) Directed by Steven Spielberg \"Saving Private Ryan\" opens and closes with the image of a faded, almost transparent American flag waving in the breeze. It's a vaguely unnerving sight in a movie that has offers plenty of others even more disturbing. Director Steven Spielberg's terrifying evocations of Holocaust atrocities in \"Schindler's List\" and life in a Japanese prison camp in \"Empire of the Sun\" were just a warm-up for the vivid, no-holds-barred scenes of war in \"Ryan.\" > -0.9381\n"
     ]
    }
   ],
   "source": [
    "print(df1['review'][5327], df1['compound'][5327])"
   ]
  },
  {
   "cell_type": "code",
   "execution_count": null,
   "metadata": {
    "collapsed": true
   },
   "outputs": [],
   "source": []
  },
  {
   "cell_type": "code",
   "execution_count": null,
   "metadata": {
    "collapsed": true
   },
   "outputs": [],
   "source": []
  },
  {
   "cell_type": "code",
   "execution_count": null,
   "metadata": {
    "collapsed": true
   },
   "outputs": [],
   "source": []
  },
  {
   "cell_type": "code",
   "execution_count": 25,
   "metadata": {},
   "outputs": [
    {
     "data": {
      "text/plain": [
       "numpy.float64"
      ]
     },
     "execution_count": 25,
     "metadata": {},
     "output_type": "execute_result"
    }
   ],
   "source": [
    "type(df1['pos'][0])"
   ]
  },
  {
   "cell_type": "code",
   "execution_count": 20,
   "metadata": {
    "collapsed": true
   },
   "outputs": [],
   "source": [
    "import ast\n",
    "x = ast.literal_eval(\"{'foo' : 'bar', 'hello' : 'world'}\")"
   ]
  },
  {
   "cell_type": "code",
   "execution_count": 22,
   "metadata": {},
   "outputs": [
    {
     "data": {
      "text/plain": [
       "dict"
      ]
     },
     "execution_count": 22,
     "metadata": {},
     "output_type": "execute_result"
    }
   ],
   "source": [
    "type(x)"
   ]
  },
  {
   "cell_type": "code",
   "execution_count": 65,
   "metadata": {},
   "outputs": [
    {
     "data": {
      "text/html": [
       "<div>\n",
       "<style scoped>\n",
       "    .dataframe tbody tr th:only-of-type {\n",
       "        vertical-align: middle;\n",
       "    }\n",
       "\n",
       "    .dataframe tbody tr th {\n",
       "        vertical-align: top;\n",
       "    }\n",
       "\n",
       "    .dataframe thead th {\n",
       "        text-align: right;\n",
       "    }\n",
       "</style>\n",
       "<table border=\"1\" class=\"dataframe\">\n",
       "  <thead>\n",
       "    <tr style=\"text-align: right;\">\n",
       "      <th></th>\n",
       "      <th>Unnamed: 0</th>\n",
       "      <th>title</th>\n",
       "      <th>review</th>\n",
       "      <th>senti</th>\n",
       "      <th>pos</th>\n",
       "      <th>neu</th>\n",
       "      <th>neg</th>\n",
       "      <th>compound</th>\n",
       "    </tr>\n",
       "  </thead>\n",
       "  <tbody>\n",
       "    <tr>\n",
       "      <th>0</th>\n",
       "      <td>0</td>\n",
       "      <td>The Hitcher (1986)</td>\n",
       "      <td>[Editor's note: Sites running 2.10 netnews wil...</td>\n",
       "      <td>{'neg': 0.09, 'neu': 0.82, 'pos': 0.09, 'compo...</td>\n",
       "      <td>0.090</td>\n",
       "      <td>0.820</td>\n",
       "      <td>0.090</td>\n",
       "      <td>-0.7197</td>\n",
       "    </tr>\n",
       "    <tr>\n",
       "      <th>1</th>\n",
       "      <td>1</td>\n",
       "      <td>Beyond Therapy (1987)</td>\n",
       "      <td>Set in the offices of two psychoanalysts, and ...</td>\n",
       "      <td>{'neg': 0.095, 'neu': 0.846, 'pos': 0.059, 'co...</td>\n",
       "      <td>0.059</td>\n",
       "      <td>0.846</td>\n",
       "      <td>0.095</td>\n",
       "      <td>-0.7328</td>\n",
       "    </tr>\n",
       "    <tr>\n",
       "      <th>2</th>\n",
       "      <td>2</td>\n",
       "      <td>Angel Heart (1987)</td>\n",
       "      <td>Starring: Mickey Rourke, Robert DeNiro, Lisa B...</td>\n",
       "      <td>{'neg': 0.077, 'neu': 0.843, 'pos': 0.08, 'com...</td>\n",
       "      <td>0.080</td>\n",
       "      <td>0.843</td>\n",
       "      <td>0.077</td>\n",
       "      <td>-0.3820</td>\n",
       "    </tr>\n",
       "    <tr>\n",
       "      <th>3</th>\n",
       "      <td>3</td>\n",
       "      <td>Angel Heart (1987)</td>\n",
       "      <td>Harry Angel (played by Mickey Rourke) is a har...</td>\n",
       "      <td>{'neg': 0.052, 'neu': 0.849, 'pos': 0.099, 'co...</td>\n",
       "      <td>0.099</td>\n",
       "      <td>0.849</td>\n",
       "      <td>0.052</td>\n",
       "      <td>0.9722</td>\n",
       "    </tr>\n",
       "    <tr>\n",
       "      <th>4</th>\n",
       "      <td>4</td>\n",
       "      <td>Radio Days (1987)</td>\n",
       "      <td>I've been a little lax in getting out movie re...</td>\n",
       "      <td>{'neg': 0.034, 'neu': 0.811, 'pos': 0.155, 'co...</td>\n",
       "      <td>0.155</td>\n",
       "      <td>0.811</td>\n",
       "      <td>0.034</td>\n",
       "      <td>0.9989</td>\n",
       "    </tr>\n",
       "  </tbody>\n",
       "</table>\n",
       "</div>"
      ],
      "text/plain": [
       "   Unnamed: 0                  title  \\\n",
       "0           0     The Hitcher (1986)   \n",
       "1           1  Beyond Therapy (1987)   \n",
       "2           2     Angel Heart (1987)   \n",
       "3           3     Angel Heart (1987)   \n",
       "4           4      Radio Days (1987)   \n",
       "\n",
       "                                              review  \\\n",
       "0  [Editor's note: Sites running 2.10 netnews wil...   \n",
       "1  Set in the offices of two psychoanalysts, and ...   \n",
       "2  Starring: Mickey Rourke, Robert DeNiro, Lisa B...   \n",
       "3  Harry Angel (played by Mickey Rourke) is a har...   \n",
       "4  I've been a little lax in getting out movie re...   \n",
       "\n",
       "                                               senti    pos    neu    neg  \\\n",
       "0  {'neg': 0.09, 'neu': 0.82, 'pos': 0.09, 'compo...  0.090  0.820  0.090   \n",
       "1  {'neg': 0.095, 'neu': 0.846, 'pos': 0.059, 'co...  0.059  0.846  0.095   \n",
       "2  {'neg': 0.077, 'neu': 0.843, 'pos': 0.08, 'com...  0.080  0.843  0.077   \n",
       "3  {'neg': 0.052, 'neu': 0.849, 'pos': 0.099, 'co...  0.099  0.849  0.052   \n",
       "4  {'neg': 0.034, 'neu': 0.811, 'pos': 0.155, 'co...  0.155  0.811  0.034   \n",
       "\n",
       "   compound  \n",
       "0   -0.7197  \n",
       "1   -0.7328  \n",
       "2   -0.3820  \n",
       "3    0.9722  \n",
       "4    0.9989  "
      ]
     },
     "execution_count": 65,
     "metadata": {},
     "output_type": "execute_result"
    }
   ],
   "source": [
    "df1.head()"
   ]
  },
  {
   "cell_type": "code",
   "execution_count": 70,
   "metadata": {},
   "outputs": [
    {
     "data": {
      "text/plain": [
       "<matplotlib.axes._subplots.AxesSubplot at 0x1faeab93710>"
      ]
     },
     "execution_count": 70,
     "metadata": {},
     "output_type": "execute_result"
    },
    {
     "data": {
      "image/png": "[encoded data removed]",
      "text/plain": [
       "<matplotlib.figure.Figure at 0x1faeb00b3c8>"
      ]
     },
     "metadata": {},
     "output_type": "display_data"
    }
   ],
   "source": [
    "import matplotlib.pyplot as plt\n",
    "% matplotlib inline\n",
    "plt.figure();\n",
    "\n",
    "df1['compound'].hist()"
   ]
  },
  {
   "cell_type": "code",
   "execution_count": 74,
   "metadata": {},
   "outputs": [],
   "source": [
    "df1['senti_binary']=df1['compound'].apply(lambda x: 1 if x>0 else -1)"
   ]
  },
  {
   "cell_type": "code",
   "execution_count": 75,
   "metadata": {},
   "outputs": [
    {
     "data": {
      "text/html": [
       "<div>\n",
       "<style scoped>\n",
       "    .dataframe tbody tr th:only-of-type {\n",
       "        vertical-align: middle;\n",
       "    }\n",
       "\n",
       "    .dataframe tbody tr th {\n",
       "        vertical-align: top;\n",
       "    }\n",
       "\n",
       "    .dataframe thead th {\n",
       "        text-align: right;\n",
       "    }\n",
       "</style>\n",
       "<table border=\"1\" class=\"dataframe\">\n",
       "  <thead>\n",
       "    <tr style=\"text-align: right;\">\n",
       "      <th></th>\n",
       "      <th>Unnamed: 0</th>\n",
       "      <th>title</th>\n",
       "      <th>review</th>\n",
       "      <th>senti</th>\n",
       "      <th>pos</th>\n",
       "      <th>neu</th>\n",
       "      <th>neg</th>\n",
       "      <th>compound</th>\n",
       "      <th>senti_binary</th>\n",
       "    </tr>\n",
       "  </thead>\n",
       "  <tbody>\n",
       "    <tr>\n",
       "      <th>0</th>\n",
       "      <td>0</td>\n",
       "      <td>The Hitcher (1986)</td>\n",
       "      <td>[Editor's note: Sites running 2.10 netnews wil...</td>\n",
       "      <td>{'neg': 0.09, 'neu': 0.82, 'pos': 0.09, 'compo...</td>\n",
       "      <td>0.090</td>\n",
       "      <td>0.820</td>\n",
       "      <td>0.090</td>\n",
       "      <td>-0.7197</td>\n",
       "      <td>-1</td>\n",
       "    </tr>\n",
       "    <tr>\n",
       "      <th>1</th>\n",
       "      <td>1</td>\n",
       "      <td>Beyond Therapy (1987)</td>\n",
       "      <td>Set in the offices of two psychoanalysts, and ...</td>\n",
       "      <td>{'neg': 0.095, 'neu': 0.846, 'pos': 0.059, 'co...</td>\n",
       "      <td>0.059</td>\n",
       "      <td>0.846</td>\n",
       "      <td>0.095</td>\n",
       "      <td>-0.7328</td>\n",
       "      <td>-1</td>\n",
       "    </tr>\n",
       "    <tr>\n",
       "      <th>2</th>\n",
       "      <td>2</td>\n",
       "      <td>Angel Heart (1987)</td>\n",
       "      <td>Starring: Mickey Rourke, Robert DeNiro, Lisa B...</td>\n",
       "      <td>{'neg': 0.077, 'neu': 0.843, 'pos': 0.08, 'com...</td>\n",
       "      <td>0.080</td>\n",
       "      <td>0.843</td>\n",
       "      <td>0.077</td>\n",
       "      <td>-0.3820</td>\n",
       "      <td>-1</td>\n",
       "    </tr>\n",
       "    <tr>\n",
       "      <th>3</th>\n",
       "      <td>3</td>\n",
       "      <td>Angel Heart (1987)</td>\n",
       "      <td>Harry Angel (played by Mickey Rourke) is a har...</td>\n",
       "      <td>{'neg': 0.052, 'neu': 0.849, 'pos': 0.099, 'co...</td>\n",
       "      <td>0.099</td>\n",
       "      <td>0.849</td>\n",
       "      <td>0.052</td>\n",
       "      <td>0.9722</td>\n",
       "      <td>1</td>\n",
       "    </tr>\n",
       "    <tr>\n",
       "      <th>4</th>\n",
       "      <td>4</td>\n",
       "      <td>Radio Days (1987)</td>\n",
       "      <td>I've been a little lax in getting out movie re...</td>\n",
       "      <td>{'neg': 0.034, 'neu': 0.811, 'pos': 0.155, 'co...</td>\n",
       "      <td>0.155</td>\n",
       "      <td>0.811</td>\n",
       "      <td>0.034</td>\n",
       "      <td>0.9989</td>\n",
       "      <td>1</td>\n",
       "    </tr>\n",
       "  </tbody>\n",
       "</table>\n",
       "</div>"
      ],
      "text/plain": [
       "   Unnamed: 0                  title  \\\n",
       "0           0     The Hitcher (1986)   \n",
       "1           1  Beyond Therapy (1987)   \n",
       "2           2     Angel Heart (1987)   \n",
       "3           3     Angel Heart (1987)   \n",
       "4           4      Radio Days (1987)   \n",
       "\n",
       "                                              review  \\\n",
       "0  [Editor's note: Sites running 2.10 netnews wil...   \n",
       "1  Set in the offices of two psychoanalysts, and ...   \n",
       "2  Starring: Mickey Rourke, Robert DeNiro, Lisa B...   \n",
       "3  Harry Angel (played by Mickey Rourke) is a har...   \n",
       "4  I've been a little lax in getting out movie re...   \n",
       "\n",
       "                                               senti    pos    neu    neg  \\\n",
       "0  {'neg': 0.09, 'neu': 0.82, 'pos': 0.09, 'compo...  0.090  0.820  0.090   \n",
       "1  {'neg': 0.095, 'neu': 0.846, 'pos': 0.059, 'co...  0.059  0.846  0.095   \n",
       "2  {'neg': 0.077, 'neu': 0.843, 'pos': 0.08, 'com...  0.080  0.843  0.077   \n",
       "3  {'neg': 0.052, 'neu': 0.849, 'pos': 0.099, 'co...  0.099  0.849  0.052   \n",
       "4  {'neg': 0.034, 'neu': 0.811, 'pos': 0.155, 'co...  0.155  0.811  0.034   \n",
       "\n",
       "   compound  senti_binary  \n",
       "0   -0.7197            -1  \n",
       "1   -0.7328            -1  \n",
       "2   -0.3820            -1  \n",
       "3    0.9722             1  \n",
       "4    0.9989             1  "
      ]
     },
     "execution_count": 75,
     "metadata": {},
     "output_type": "execute_result"
    }
   ],
   "source": [
    "df1.head()"
   ]
  },
  {
   "cell_type": "code",
   "execution_count": null,
   "metadata": {
    "collapsed": true
   },
   "outputs": [],
   "source": []
  }
 ],
 "metadata": {
  "kernelspec": {
   "display_name": "Python 3",
   "language": "python",
   "name": "python3"
  },
  "language_info": {
   "codemirror_mode": {
    "name": "ipython",
    "version": 3
   },
   "file_extension": ".py",
   "mimetype": "text/x-python",
   "name": "python",
   "nbconvert_exporter": "python",
   "pygments_lexer": "ipython3",
   "version": "3.6.3"
  }
 },
 "nbformat": 4,
 "nbformat_minor": 2
}
